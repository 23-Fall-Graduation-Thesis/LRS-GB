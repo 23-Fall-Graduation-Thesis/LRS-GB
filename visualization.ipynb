{
 "cells": [
  {
   "cell_type": "markdown",
   "metadata": {},
   "source": [
    "### 0.1 Import Package"
   ]
  },
  {
   "cell_type": "code",
   "execution_count": 1,
   "metadata": {},
   "outputs": [
    {
     "name": "stdout",
     "output_type": "stream",
     "text": [
      "PyTorch Version:  2.0.1+cu117\n",
      "Torchvision Version:  0.15.2+cu117\n"
     ]
    }
   ],
   "source": [
    "import os\n",
    "from pyprnt import prnt\n",
    "import pandas as pd\n",
    "import seaborn as sns\n",
    "import matplotlib.pyplot as plt\n",
    "\n",
    "from tqdm import tqdm\n",
    "import warnings\n",
    "warnings.filterwarnings(\"ignore\")\n",
    "from tensorboard.backend.event_processing.event_accumulator import EventAccumulator\n",
    "\n",
    "import torch\n",
    "import torchvision\n",
    "from torchsummary import summary\n",
    "\n",
    "print(\"PyTorch Version: \",torch.__version__)\n",
    "print(\"Torchvision Version: \",torchvision.__version__)\n",
    "\n",
    "device = torch.device(\"cuda:0\")"
   ]
  },
  {
   "cell_type": "code",
   "execution_count": 2,
   "metadata": {},
   "outputs": [],
   "source": [
    "\"\"\" User Define function \"\"\"\n",
    "\n",
    "# from model.models import Conv4\n",
    "\n",
    "from model.pretrained_models import select_model\n",
    "from dataset_dir.datasets import datasetload\n",
    "\n",
    "from utils.util_functions import name_parser\n",
    "from utils.util_functions import get_alias\n",
    "\n",
    "from utils.visualize_tool import visualize_tensor\n",
    "from utils.visualize_tool import visualize_filters\n",
    "from utils.visualize_tool import visualize_feature_map\n",
    "from utils.visualize_tool import visualize_weight_distribution\n",
    "\n",
    "from utils.get_data import get_feature_from_dataset\n",
    "from utils.visualize_tool import visualize_feature_distribution\n",
    "from utils.util_functions import get_umap_embedding\n",
    "from utils.visualize_tool import visualize_class_activation_images\n",
    "from utils.visualize_grad import LayerCam\n",
    "from utils.util_functions import get_info\n",
    "\n",
    "from utils.get_data import get_performance_df\n",
    "from utils.visualize_tool import plot_comparison_each_dataset\n",
    "from utils.visualize_tool import plot_comparison_each_dataset_only_one\n",
    "from utils.visualize_tool import plot_comparison_each_dataset_only_two\n",
    "from utils.visualize_tool import visualize_gradXimage"
   ]
  },
  {
   "cell_type": "markdown",
   "metadata": {},
   "source": [
    "### 0.2. Directory Setting"
   ]
  },
  {
   "cell_type": "code",
   "execution_count": 3,
   "metadata": {},
   "outputs": [],
   "source": [
    "\"\"\" IMPORTANT\n",
    "\n",
    "RECURSIVE\n",
    "- if you want visualization all weight in your directory, then RECURSIVE  = TRUE\n",
    "- else, you want visualization specific log in your directory, then RECURSIVE = FALSE\n",
    "\n",
    "SAVE\n",
    "- if you want save all visualization image, then SAVE = TRUE\n",
    "- else, you don't want save image, then SAVE = FALSE\n",
    "\n",
    "SHOW\n",
    "- if you want visualization result in this jupyter kernel, then SHOW = TRUE\n",
    "- else, you don't want show image in jupyter kernel, then SHOW = FALSE\n",
    "\n",
    "\"\"\"\n",
    "\n",
    "RECURSIVE = True\n",
    "SAVE = True\n",
    "SHOW = False"
   ]
  },
  {
   "cell_type": "markdown",
   "metadata": {},
   "source": [
    "Specific model setting: 특정한 모델을 확인하기 위해"
   ]
  },
  {
   "cell_type": "code",
   "execution_count": 4,
   "metadata": {},
   "outputs": [],
   "source": [
    "if not RECURSIVE :\n",
    "    conf = dict(\n",
    "        epoch=100,\n",
    "        lr=0.001,\n",
    "        stepsize=50,\n",
    "        gamma=0.1,\n",
    "        model=\"resnet18\",\n",
    "        dataset=\"cub\",\n",
    "        pretrain=False,\n",
    "        mode=\"cus\"\n",
    "    )\n",
    "    MODEL_DIR = \"./model/best_weight/\"\n",
    "    LOG_DIR = \"./results/best_log/\"\n",
    "\n",
    "    name = str(conf['model'])+\"_\"+str(conf['dataset'])+\"_\"+str(conf['mode'])\n",
    "    model_path = MODEL_DIR + name +\".pt\"\n",
    "    log_path = LOG_DIR +  name\n",
    "\n",
    "\n",
    "    print(model_path)\n",
    "    print(log_path)"
   ]
  },
  {
   "cell_type": "markdown",
   "metadata": {},
   "source": [
    "Entire model setting: directory에 저장되어있는 전체 모델을 확인하기 위해"
   ]
  },
  {
   "cell_type": "code",
   "execution_count": 5,
   "metadata": {},
   "outputs": [
    {
     "name": "stdout",
     "output_type": "stream",
     "text": [
      "6\n",
      "./model/best_weight/resnet50_cars_standard.pt\n",
      "6\n",
      "./results/best_log/resnet50_cub_standard\n"
     ]
    }
   ],
   "source": [
    "if RECURSIVE :\n",
    "    MODEL_DIR = \"./model/best_weight\"\n",
    "    LOG_DIR = \"./results/best_log\"\n",
    "\n",
    "    weight_files = [os.path.join(MODEL_DIR, file) for file in os.listdir(MODEL_DIR) if os.path.isfile(os.path.join(MODEL_DIR, file))]\n",
    "    log_files = [os.path.join(LOG_DIR, file) for file in os.listdir(LOG_DIR)]\n",
    "\n",
    "    print(len(weight_files))\n",
    "    print(weight_files[0])\n",
    "    print(len(log_files))\n",
    "    print(log_files[0])"
   ]
  },
  {
   "cell_type": "markdown",
   "metadata": {},
   "source": [
    "### 1. Architecture\n",
    "특정 데이터셋, 모델의 구조를 확인하기 위한 코드. RECURSIVE하게 모든 weight파일에 대해서 동작하지 않습니다."
   ]
  },
  {
   "cell_type": "code",
   "execution_count": 6,
   "metadata": {},
   "outputs": [],
   "source": [
    "if not RECURSIVE :\n",
    "    trainloader, validloader, testloader, num_class = datasetload(conf['dataset'])\n",
    "    MODEL = select_model(conf['model'], num_class)\n",
    "    model_state = torch.load(model_path)\n",
    "    MODEL.load_state_dict(model_state)"
   ]
  },
  {
   "cell_type": "markdown",
   "metadata": {},
   "source": [
    "#### 1.1 Model Architecture"
   ]
  },
  {
   "cell_type": "code",
   "execution_count": 7,
   "metadata": {},
   "outputs": [],
   "source": [
    "if not RECURSIVE :\n",
    "    print(MODEL)"
   ]
  },
  {
   "cell_type": "code",
   "execution_count": 8,
   "metadata": {},
   "outputs": [],
   "source": [
    "if not RECURSIVE :\n",
    "    summary(MODEL, (3, 224, 224), device='cpu')"
   ]
  },
  {
   "cell_type": "markdown",
   "metadata": {},
   "source": [
    "*사용하고자하는 모델의 layer에 대한 정보를 기록합니다. (e.g., Alexnet)"
   ]
  },
  {
   "cell_type": "code",
   "execution_count": 9,
   "metadata": {},
   "outputs": [],
   "source": [
    "# setting\n",
    "CLASS_NUM = dict(\n",
    "    cifar100=100,\n",
    "    cub=200,\n",
    "    cars=196\n",
    ")"
   ]
  },
  {
   "cell_type": "code",
   "execution_count": 10,
   "metadata": {},
   "outputs": [
    {
     "name": "stdout",
     "output_type": "stream",
     "text": [
      "['', 'conv1', 'bn1', 'relu', 'maxpool', 'layer1', 'layer1.0', 'layer1.0.conv1', 'layer1.0.bn1', 'layer1.0.conv2', 'layer1.0.bn2', 'layer1.0.conv3', 'layer1.0.bn3', 'layer1.0.relu', 'layer1.0.downsample', 'layer1.0.downsample.0', 'layer1.0.downsample.1', 'layer1.1', 'layer1.1.conv1', 'layer1.1.bn1', 'layer1.1.conv2', 'layer1.1.bn2', 'layer1.1.conv3', 'layer1.1.bn3', 'layer1.1.relu', 'layer1.2', 'layer1.2.conv1', 'layer1.2.bn1', 'layer1.2.conv2', 'layer1.2.bn2', 'layer1.2.conv3', 'layer1.2.bn3', 'layer1.2.relu', 'layer2', 'layer2.0', 'layer2.0.conv1', 'layer2.0.bn1', 'layer2.0.conv2', 'layer2.0.bn2', 'layer2.0.conv3', 'layer2.0.bn3', 'layer2.0.relu', 'layer2.0.downsample', 'layer2.0.downsample.0', 'layer2.0.downsample.1', 'layer2.1', 'layer2.1.conv1', 'layer2.1.bn1', 'layer2.1.conv2', 'layer2.1.bn2', 'layer2.1.conv3', 'layer2.1.bn3', 'layer2.1.relu', 'layer2.2', 'layer2.2.conv1', 'layer2.2.bn1', 'layer2.2.conv2', 'layer2.2.bn2', 'layer2.2.conv3', 'layer2.2.bn3', 'layer2.2.relu', 'layer2.3', 'layer2.3.conv1', 'layer2.3.bn1', 'layer2.3.conv2', 'layer2.3.bn2', 'layer2.3.conv3', 'layer2.3.bn3', 'layer2.3.relu', 'layer3', 'layer3.0', 'layer3.0.conv1', 'layer3.0.bn1', 'layer3.0.conv2', 'layer3.0.bn2', 'layer3.0.conv3', 'layer3.0.bn3', 'layer3.0.relu', 'layer3.0.downsample', 'layer3.0.downsample.0', 'layer3.0.downsample.1', 'layer3.1', 'layer3.1.conv1', 'layer3.1.bn1', 'layer3.1.conv2', 'layer3.1.bn2', 'layer3.1.conv3', 'layer3.1.bn3', 'layer3.1.relu', 'layer3.2', 'layer3.2.conv1', 'layer3.2.bn1', 'layer3.2.conv2', 'layer3.2.bn2', 'layer3.2.conv3', 'layer3.2.bn3', 'layer3.2.relu', 'layer3.3', 'layer3.3.conv1', 'layer3.3.bn1', 'layer3.3.conv2', 'layer3.3.bn2', 'layer3.3.conv3', 'layer3.3.bn3', 'layer3.3.relu', 'layer3.4', 'layer3.4.conv1', 'layer3.4.bn1', 'layer3.4.conv2', 'layer3.4.bn2', 'layer3.4.conv3', 'layer3.4.bn3', 'layer3.4.relu', 'layer3.5', 'layer3.5.conv1', 'layer3.5.bn1', 'layer3.5.conv2', 'layer3.5.bn2', 'layer3.5.conv3', 'layer3.5.bn3', 'layer3.5.relu', 'layer4', 'layer4.0', 'layer4.0.conv1', 'layer4.0.bn1', 'layer4.0.conv2', 'layer4.0.bn2', 'layer4.0.conv3', 'layer4.0.bn3', 'layer4.0.relu', 'layer4.0.downsample', 'layer4.0.downsample.0', 'layer4.0.downsample.1', 'layer4.1', 'layer4.1.conv1', 'layer4.1.bn1', 'layer4.1.conv2', 'layer4.1.bn2', 'layer4.1.conv3', 'layer4.1.bn3', 'layer4.1.relu', 'layer4.2', 'layer4.2.conv1', 'layer4.2.bn1', 'layer4.2.conv2', 'layer4.2.bn2', 'layer4.2.conv3', 'layer4.2.bn3', 'layer4.2.relu', 'avgpool', 'fc']\n",
      "conv2\n"
     ]
    }
   ],
   "source": [
    "temp_conf = name_parser(weight_files[0])\n",
    "num_class = CLASS_NUM[temp_conf['dataset']]\n",
    "temp_model = select_model(temp_conf['model'], num_class)\n",
    "temp_layer_names = [name for name, _ in temp_model.named_modules()]\n",
    "print(temp_layer_names)\n",
    "\n",
    "# setting\n",
    "if temp_conf['model'] == 'resnet18':\n",
    "    layer_name_list = ['conv1', 'layer1.0.conv2', 'layer1.1.conv2', 'layer2.0.conv2', 'layer2.1.conv2', \\\n",
    "                'layer3.0.conv2', 'layer3.1.conv2', 'layer4.0.conv2', 'layer4.1.conv2']\n",
    "    model_info = dict(\n",
    "    conv1=0, conv2=10, conv3=11, conv4=20, conv5=21, conv6=30, conv7=31, conv8=40, conv9=41)   \n",
    "elif temp_conf['model'] == 'resnet50':\n",
    "    layer_name_list = ['conv1', 'layer1.0.conv2', 'layer1.1.conv2', 'layer1.2.conv2', 'layer2.0.conv2', 'layer2.1.conv2', \\\n",
    "                'layer2.2.conv2', 'layer2.3.conv2', 'layer3.0.conv2', 'layer3.1.conv2', 'layer3.2.conv2', 'layer3.3.conv2', \\\n",
    "                'layer3.4.conv2', 'layer3.5.conv2', 'layer4.0.conv2', 'layer4.1.conv2', 'layer4.2.conv2']\n",
    "    model_info = dict(\n",
    "    conv1=0, conv2=10, conv3=11, conv4=12, conv5=20, conv6=21, conv7=22, conv8=23, conv9=30, conv10=31, conv11=32, conv12=33, conv13=34, conv14=35, conv15=40, conv16=41, conv17=42)   \n",
    "else: # alexnet\n",
    "    layer_name_list = ['features.0', 'features.3', 'features.6', 'features.8', 'features.10']\n",
    "    model_info = dict(\n",
    "    conv1=0,\n",
    "    conv2=3,\n",
    "    conv3=6,\n",
    "    conv4=8,\n",
    "    conv5=10)   \n",
    "print(get_alias(layer_name_list[1], model_info, model=temp_conf['model']))"
   ]
  },
  {
   "cell_type": "markdown",
   "metadata": {},
   "source": [
    "#### 1.2 Dataset Property"
   ]
  },
  {
   "cell_type": "code",
   "execution_count": 11,
   "metadata": {},
   "outputs": [],
   "source": [
    "if not RECURSIVE :\n",
    "    print(num_class)\n",
    "    print(len(trainloader.dataset))\n",
    "    print(len(validloader.dataset))\n",
    "    print(len(testloader.dataset))"
   ]
  },
  {
   "cell_type": "code",
   "execution_count": 12,
   "metadata": {},
   "outputs": [],
   "source": [
    "if not RECURSIVE :\n",
    "    img_idx = 0\n",
    "    image = trainloader.dataset[img_idx][0]\n",
    "    print(image.shape)\n",
    "\n",
    "    sns.set_style(\"white\")\n",
    "    visualize_tensor(image)"
   ]
  },
  {
   "cell_type": "markdown",
   "metadata": {},
   "source": [
    "#### 1.3 Train/Val Best Accuracy save"
   ]
  },
  {
   "cell_type": "code",
   "execution_count": 13,
   "metadata": {},
   "outputs": [],
   "source": [
    "def get_best_accuracy(path):\n",
    "    event_acc = EventAccumulator(path)\n",
    "    event_acc.Reload()\n",
    "\n",
    "    if 'scalars' in event_acc.Tags():\n",
    "        scalar_tags = event_acc.Tags()['scalars']\n",
    "        \n",
    "        for i, tag in enumerate(scalar_tags):\n",
    "            values = event_acc.Scalars(tag)\n",
    "            max_value = max(v.value for v in values)\n",
    "            min_value = min(v.value for v in values)\n",
    "            if tag == 'Acc/train':\n",
    "                best_train_acc = max_value\n",
    "            elif tag == 'Acc/val':\n",
    "                best_val_acc = max_value\n",
    "            elif tag == 'Loss/train':\n",
    "                best_train_loss = min_value\n",
    "            elif tag == 'Loss/val':\n",
    "                best_val_loss = min_value\n",
    "    \n",
    "    return best_train_acc, best_val_acc, best_train_loss, best_val_loss"
   ]
  },
  {
   "cell_type": "code",
   "execution_count": 14,
   "metadata": {},
   "outputs": [
    {
     "name": "stdout",
     "output_type": "stream",
     "text": [
      "╭─────────────────┬──────────────────────────────╮\n",
      "│cub-standard     │╭──────────────┬─────────────╮│\n",
      "│                 ││best_train_acc│98.7695541381││\n",
      "│                 ││              │836          ││\n",
      "│                 ││best_val_acc  │65.3878250122││\n",
      "│                 ││              │0703         ││\n",
      "│                 ││best_train_...│0.00050658808││\n",
      "│                 ││              │32262337     ││\n",
      "│                 ││best_val_loss │0.01892288401││\n",
      "│                 ││              │722908       ││\n",
      "│                 │╰──────────────┴─────────────╯│\n",
      "│cifar100-standard│╭──────────────┬─────────────╮│\n",
      "│                 ││best_train_acc│99.9850006103││\n",
      "│                 ││              │5156         ││\n",
      "│                 ││best_val_acc  │81.3099975585││\n",
      "│                 ││              │9375         ││\n",
      "│                 ││best_train_...│2.58607451542││\n",
      "│                 ││              │0478e-05     ││\n",
      "│                 ││best_val_loss │0.00985303334││\n",
      "│                 ││              │8917961      ││\n",
      "│                 │╰──────────────┴─────────────╯│\n",
      "│cars-GBweva      │╭──────────────┬─────────────╮│\n",
      "│                 ││best_train_acc│99.9079055786││\n",
      "│                 ││              │1328         ││\n",
      "│                 ││best_val_acc  │79.7421722412││\n",
      "│                 ││              │1094         ││\n",
      "│                 ││best_train_...│3.77765427401││\n",
      "│                 ││              │755e-05      ││\n",
      "│                 ││best_val_loss │0.01488611660││\n",
      "│                 ││              │8977318      ││\n",
      "│                 │╰──────────────┴─────────────╯│\n",
      "│cub-GBweva       │╭──────────────┬─────────────╮│\n",
      "│                 ││best_train_acc│98.7695541381││\n",
      "│                 ││              │836          ││\n",
      "│                 ││best_val_acc  │69.8915786743││\n",
      "│                 ││              │164          ││\n",
      "│                 ││best_train_...│2.14188230529││\n",
      "│                 ││              │54394e-06    ││\n",
      "│                 ││best_val_loss │0.02220506034││\n",
      "│                 ││              │7914696      ││\n",
      "│                 │╰──────────────┴─────────────╯│\n",
      "│cifar100-GBweva  │╭──────────────┬─────────────╮│\n",
      "│                 ││best_train_acc│99.9625015258││\n",
      "│                 ││              │789          ││\n",
      "│                 ││best_val_acc  │82.4400024414││\n",
      "│                 ││              │0625         ││\n",
      "│                 ││best_train_...│3.04200657410││\n",
      "│                 ││              │54714e-05    ││\n",
      "│                 ││best_val_loss │0.01306830253││\n",
      "│                 ││              │4520626      ││\n",
      "│                 │╰──────────────┴─────────────╯│\n",
      "│cars-standard    │╭──────────────┬─────────────╮│\n",
      "│                 ││best_train_acc│99.9232559204││\n",
      "│                 ││              │1016         ││\n",
      "│                 ││best_val_acc  │69.9815826416││\n",
      "│                 ││              │0156         ││\n",
      "│                 ││best_train_...│0.00035905526││\n",
      "│                 ││              │601709425    ││\n",
      "│                 ││best_val_loss │0.02005607821││\n",
      "│                 ││              │047306       ││\n",
      "│                 │╰──────────────┴─────────────╯│\n",
      "╰─────────────────┴──────────────────────────────╯\n"
     ]
    }
   ],
   "source": [
    "\"\"\" RECURSIVE : Running This!!!\"\"\"\n",
    "BEST_VALUES = {}\n",
    "\n",
    "for log_path in log_files :\n",
    "    conf = name_parser(log_path)\n",
    "    best_train_acc, best_val_acc, best_train_loss, best_val_loss = get_best_accuracy(log_path)\n",
    "    alias = conf[\"dataset\"]+\"-\"+conf[\"mode\"]\n",
    "    BEST_VALUES[alias] = {'best_train_acc': best_train_acc, 'best_val_acc': best_val_acc, 'best_train_loss': best_train_loss, 'best_val_loss': best_val_loss}\n",
    "\n",
    "prnt(BEST_VALUES)"
   ]
  },
  {
   "cell_type": "markdown",
   "metadata": {},
   "source": [
    "#### 1.4 Train Log Print"
   ]
  },
  {
   "cell_type": "code",
   "execution_count": 15,
   "metadata": {},
   "outputs": [],
   "source": [
    "# def draw_log(path, isSave=False, overlap=True):\n",
    "#     conf = name_parser(path)\n",
    "#     event_acc = EventAccumulator(path)\n",
    "#     event_acc.Reload()\n",
    "\n",
    "#     if 'scalars' in event_acc.Tags():\n",
    "#         scalar_tags = event_acc.Tags()['scalars']\n",
    "\n",
    "#         if not overlap :\n",
    "#             plt.figure(figsize=(13, 10))\n",
    "#             sns.set()\n",
    "\n",
    "#         for i, tag in enumerate(scalar_tags):\n",
    "#             values = event_acc.Scalars(tag)\n",
    "#             steps = [v.step for v in values]\n",
    "#             data = [v.value for v in values]\n",
    "            \n",
    "#             df = pd.DataFrame({'Step': steps, tag: data})\n",
    "\n",
    "#             plt.subplot(2, 2, i + 1)\n",
    "#             sns.lineplot(x='Step', y=tag, data=df, label=conf['dataset']+\"(\"+conf['freeze']+\")\" )\n",
    "#             plt.xlabel('Steps')\n",
    "#             plt.ylabel(tag)\n",
    "#             plt.title(f'{tag} over Time')\n",
    "            \n",
    "#         plt.tight_layout()\n",
    "#         if not overlap :\n",
    "#             plt.show()\n",
    "\n",
    "# if not RECURSIVE :\n",
    "#     draw_log(log_path, SAVE)\n",
    "\n",
    "# else :\n",
    "#     plt.figure(figsize=(13, 10))\n",
    "#     sns.set()\n",
    "#     for log_path in log_files :\n",
    "#         draw_log(log_path)\n",
    "#     plt.show()"
   ]
  },
  {
   "cell_type": "markdown",
   "metadata": {},
   "source": [
    "### 2. Visualization"
   ]
  },
  {
   "cell_type": "markdown",
   "metadata": {},
   "source": [
    "#### 2.1. cnn Filter visualization\n",
    "visualize_filters : 모델을 이루는 각각의 convolution 필터의 가중치를 시각화 합니다. (constraint: 1st channel)"
   ]
  },
  {
   "cell_type": "code",
   "execution_count": 16,
   "metadata": {},
   "outputs": [],
   "source": [
    "if not RECURSIVE:\n",
    "    layer_name = \"features.0\"\n",
    "    visualize_filters(model_info, MODEL, layer_name, ncols=32, nchannel=5, showAll=False)"
   ]
  },
  {
   "cell_type": "code",
   "execution_count": 17,
   "metadata": {},
   "outputs": [
    {
     "name": "stderr",
     "output_type": "stream",
     "text": [
      "100%|██████████| 6/6 [00:05<00:00,  1.15it/s]\n"
     ]
    }
   ],
   "source": [
    "\"\"\" RECURSIVE : Running This!!!\"\"\"\n",
    "if RECURSIVE:\n",
    "    for weight_path in tqdm(weight_files) :\n",
    "        conf = name_parser(weight_path)\n",
    "        num_class = CLASS_NUM[conf['dataset']]\n",
    "\n",
    "        MODEL = select_model(conf['model'], num_class)\n",
    "        model_state = torch.load(weight_path)\n",
    "        MODEL.load_state_dict(model_state)\n",
    "            \n",
    "        # for layer_name in layer_name_list :\n",
    "        #     visualize_filters(model_info, MODEL, layer_name, conf, save=SAVE, show=SHOW, ncols=32, nchannel=5, showAll=False)"
   ]
  },
  {
   "cell_type": "markdown",
   "metadata": {},
   "source": [
    "#### 2.2. Feature map Visualize\n",
    "visualize_feature_map : 특정 입력 이미지에 대해 모델의 각 레이어를 통과했을 때 feature_map을 시각화 합니다. (constraint: 1st feature map)"
   ]
  },
  {
   "cell_type": "code",
   "execution_count": 18,
   "metadata": {},
   "outputs": [],
   "source": [
    "if not RECURSIVE :\n",
    "    layer_name = 'conv2'\n",
    "    input_image = torch.unsqueeze(image, 0)\n",
    "\n",
    "    activation = {}\n",
    "    visualize_feature_map(activation, MODEL, input_image, layer_name, model_info[layer_name])"
   ]
  },
  {
   "cell_type": "code",
   "execution_count": 19,
   "metadata": {},
   "outputs": [
    {
     "name": "stdout",
     "output_type": "stream",
     "text": [
      "ResNet(\n",
      "  (conv1): Conv2d(3, 64, kernel_size=(7, 7), stride=(2, 2), padding=(3, 3), bias=False)\n",
      "  (bn1): BatchNorm2d(64, eps=1e-05, momentum=0.1, affine=True, track_running_stats=True)\n",
      "  (relu): ReLU(inplace=True)\n",
      "  (maxpool): MaxPool2d(kernel_size=3, stride=2, padding=1, dilation=1, ceil_mode=False)\n",
      "  (layer1): Sequential(\n",
      "    (0): Bottleneck(\n",
      "      (conv1): Conv2d(64, 64, kernel_size=(1, 1), stride=(1, 1), bias=False)\n",
      "      (bn1): BatchNorm2d(64, eps=1e-05, momentum=0.1, affine=True, track_running_stats=True)\n",
      "      (conv2): Conv2d(64, 64, kernel_size=(3, 3), stride=(1, 1), padding=(1, 1), bias=False)\n",
      "      (bn2): BatchNorm2d(64, eps=1e-05, momentum=0.1, affine=True, track_running_stats=True)\n",
      "      (conv3): Conv2d(64, 256, kernel_size=(1, 1), stride=(1, 1), bias=False)\n",
      "      (bn3): BatchNorm2d(256, eps=1e-05, momentum=0.1, affine=True, track_running_stats=True)\n",
      "      (relu): ReLU(inplace=True)\n",
      "      (downsample): Sequential(\n",
      "        (0): Conv2d(64, 256, kernel_size=(1, 1), stride=(1, 1), bias=False)\n",
      "        (1): BatchNorm2d(256, eps=1e-05, momentum=0.1, affine=True, track_running_stats=True)\n",
      "      )\n",
      "    )\n",
      "    (1): Bottleneck(\n",
      "      (conv1): Conv2d(256, 64, kernel_size=(1, 1), stride=(1, 1), bias=False)\n",
      "      (bn1): BatchNorm2d(64, eps=1e-05, momentum=0.1, affine=True, track_running_stats=True)\n",
      "      (conv2): Conv2d(64, 64, kernel_size=(3, 3), stride=(1, 1), padding=(1, 1), bias=False)\n",
      "      (bn2): BatchNorm2d(64, eps=1e-05, momentum=0.1, affine=True, track_running_stats=True)\n",
      "      (conv3): Conv2d(64, 256, kernel_size=(1, 1), stride=(1, 1), bias=False)\n",
      "      (bn3): BatchNorm2d(256, eps=1e-05, momentum=0.1, affine=True, track_running_stats=True)\n",
      "      (relu): ReLU(inplace=True)\n",
      "    )\n",
      "    (2): Bottleneck(\n",
      "      (conv1): Conv2d(256, 64, kernel_size=(1, 1), stride=(1, 1), bias=False)\n",
      "      (bn1): BatchNorm2d(64, eps=1e-05, momentum=0.1, affine=True, track_running_stats=True)\n",
      "      (conv2): Conv2d(64, 64, kernel_size=(3, 3), stride=(1, 1), padding=(1, 1), bias=False)\n",
      "      (bn2): BatchNorm2d(64, eps=1e-05, momentum=0.1, affine=True, track_running_stats=True)\n",
      "      (conv3): Conv2d(64, 256, kernel_size=(1, 1), stride=(1, 1), bias=False)\n",
      "      (bn3): BatchNorm2d(256, eps=1e-05, momentum=0.1, affine=True, track_running_stats=True)\n",
      "      (relu): ReLU(inplace=True)\n",
      "    )\n",
      "  )\n",
      "  (layer2): Sequential(\n",
      "    (0): Bottleneck(\n",
      "      (conv1): Conv2d(256, 128, kernel_size=(1, 1), stride=(1, 1), bias=False)\n",
      "      (bn1): BatchNorm2d(128, eps=1e-05, momentum=0.1, affine=True, track_running_stats=True)\n",
      "      (conv2): Conv2d(128, 128, kernel_size=(3, 3), stride=(2, 2), padding=(1, 1), bias=False)\n",
      "      (bn2): BatchNorm2d(128, eps=1e-05, momentum=0.1, affine=True, track_running_stats=True)\n",
      "      (conv3): Conv2d(128, 512, kernel_size=(1, 1), stride=(1, 1), bias=False)\n",
      "      (bn3): BatchNorm2d(512, eps=1e-05, momentum=0.1, affine=True, track_running_stats=True)\n",
      "      (relu): ReLU(inplace=True)\n",
      "      (downsample): Sequential(\n",
      "        (0): Conv2d(256, 512, kernel_size=(1, 1), stride=(2, 2), bias=False)\n",
      "        (1): BatchNorm2d(512, eps=1e-05, momentum=0.1, affine=True, track_running_stats=True)\n",
      "      )\n",
      "    )\n",
      "    (1): Bottleneck(\n",
      "      (conv1): Conv2d(512, 128, kernel_size=(1, 1), stride=(1, 1), bias=False)\n",
      "      (bn1): BatchNorm2d(128, eps=1e-05, momentum=0.1, affine=True, track_running_stats=True)\n",
      "      (conv2): Conv2d(128, 128, kernel_size=(3, 3), stride=(1, 1), padding=(1, 1), bias=False)\n",
      "      (bn2): BatchNorm2d(128, eps=1e-05, momentum=0.1, affine=True, track_running_stats=True)\n",
      "      (conv3): Conv2d(128, 512, kernel_size=(1, 1), stride=(1, 1), bias=False)\n",
      "      (bn3): BatchNorm2d(512, eps=1e-05, momentum=0.1, affine=True, track_running_stats=True)\n",
      "      (relu): ReLU(inplace=True)\n",
      "    )\n",
      "    (2): Bottleneck(\n",
      "      (conv1): Conv2d(512, 128, kernel_size=(1, 1), stride=(1, 1), bias=False)\n",
      "      (bn1): BatchNorm2d(128, eps=1e-05, momentum=0.1, affine=True, track_running_stats=True)\n",
      "      (conv2): Conv2d(128, 128, kernel_size=(3, 3), stride=(1, 1), padding=(1, 1), bias=False)\n",
      "      (bn2): BatchNorm2d(128, eps=1e-05, momentum=0.1, affine=True, track_running_stats=True)\n",
      "      (conv3): Conv2d(128, 512, kernel_size=(1, 1), stride=(1, 1), bias=False)\n",
      "      (bn3): BatchNorm2d(512, eps=1e-05, momentum=0.1, affine=True, track_running_stats=True)\n",
      "      (relu): ReLU(inplace=True)\n",
      "    )\n",
      "    (3): Bottleneck(\n",
      "      (conv1): Conv2d(512, 128, kernel_size=(1, 1), stride=(1, 1), bias=False)\n",
      "      (bn1): BatchNorm2d(128, eps=1e-05, momentum=0.1, affine=True, track_running_stats=True)\n",
      "      (conv2): Conv2d(128, 128, kernel_size=(3, 3), stride=(1, 1), padding=(1, 1), bias=False)\n",
      "      (bn2): BatchNorm2d(128, eps=1e-05, momentum=0.1, affine=True, track_running_stats=True)\n",
      "      (conv3): Conv2d(128, 512, kernel_size=(1, 1), stride=(1, 1), bias=False)\n",
      "      (bn3): BatchNorm2d(512, eps=1e-05, momentum=0.1, affine=True, track_running_stats=True)\n",
      "      (relu): ReLU(inplace=True)\n",
      "    )\n",
      "  )\n",
      "  (layer3): Sequential(\n",
      "    (0): Bottleneck(\n",
      "      (conv1): Conv2d(512, 256, kernel_size=(1, 1), stride=(1, 1), bias=False)\n",
      "      (bn1): BatchNorm2d(256, eps=1e-05, momentum=0.1, affine=True, track_running_stats=True)\n",
      "      (conv2): Conv2d(256, 256, kernel_size=(3, 3), stride=(2, 2), padding=(1, 1), bias=False)\n",
      "      (bn2): BatchNorm2d(256, eps=1e-05, momentum=0.1, affine=True, track_running_stats=True)\n",
      "      (conv3): Conv2d(256, 1024, kernel_size=(1, 1), stride=(1, 1), bias=False)\n",
      "      (bn3): BatchNorm2d(1024, eps=1e-05, momentum=0.1, affine=True, track_running_stats=True)\n",
      "      (relu): ReLU(inplace=True)\n",
      "      (downsample): Sequential(\n",
      "        (0): Conv2d(512, 1024, kernel_size=(1, 1), stride=(2, 2), bias=False)\n",
      "        (1): BatchNorm2d(1024, eps=1e-05, momentum=0.1, affine=True, track_running_stats=True)\n",
      "      )\n",
      "    )\n",
      "    (1): Bottleneck(\n",
      "      (conv1): Conv2d(1024, 256, kernel_size=(1, 1), stride=(1, 1), bias=False)\n",
      "      (bn1): BatchNorm2d(256, eps=1e-05, momentum=0.1, affine=True, track_running_stats=True)\n",
      "      (conv2): Conv2d(256, 256, kernel_size=(3, 3), stride=(1, 1), padding=(1, 1), bias=False)\n",
      "      (bn2): BatchNorm2d(256, eps=1e-05, momentum=0.1, affine=True, track_running_stats=True)\n",
      "      (conv3): Conv2d(256, 1024, kernel_size=(1, 1), stride=(1, 1), bias=False)\n",
      "      (bn3): BatchNorm2d(1024, eps=1e-05, momentum=0.1, affine=True, track_running_stats=True)\n",
      "      (relu): ReLU(inplace=True)\n",
      "    )\n",
      "    (2): Bottleneck(\n",
      "      (conv1): Conv2d(1024, 256, kernel_size=(1, 1), stride=(1, 1), bias=False)\n",
      "      (bn1): BatchNorm2d(256, eps=1e-05, momentum=0.1, affine=True, track_running_stats=True)\n",
      "      (conv2): Conv2d(256, 256, kernel_size=(3, 3), stride=(1, 1), padding=(1, 1), bias=False)\n",
      "      (bn2): BatchNorm2d(256, eps=1e-05, momentum=0.1, affine=True, track_running_stats=True)\n",
      "      (conv3): Conv2d(256, 1024, kernel_size=(1, 1), stride=(1, 1), bias=False)\n",
      "      (bn3): BatchNorm2d(1024, eps=1e-05, momentum=0.1, affine=True, track_running_stats=True)\n",
      "      (relu): ReLU(inplace=True)\n",
      "    )\n",
      "    (3): Bottleneck(\n",
      "      (conv1): Conv2d(1024, 256, kernel_size=(1, 1), stride=(1, 1), bias=False)\n",
      "      (bn1): BatchNorm2d(256, eps=1e-05, momentum=0.1, affine=True, track_running_stats=True)\n",
      "      (conv2): Conv2d(256, 256, kernel_size=(3, 3), stride=(1, 1), padding=(1, 1), bias=False)\n",
      "      (bn2): BatchNorm2d(256, eps=1e-05, momentum=0.1, affine=True, track_running_stats=True)\n",
      "      (conv3): Conv2d(256, 1024, kernel_size=(1, 1), stride=(1, 1), bias=False)\n",
      "      (bn3): BatchNorm2d(1024, eps=1e-05, momentum=0.1, affine=True, track_running_stats=True)\n",
      "      (relu): ReLU(inplace=True)\n",
      "    )\n",
      "    (4): Bottleneck(\n",
      "      (conv1): Conv2d(1024, 256, kernel_size=(1, 1), stride=(1, 1), bias=False)\n",
      "      (bn1): BatchNorm2d(256, eps=1e-05, momentum=0.1, affine=True, track_running_stats=True)\n",
      "      (conv2): Conv2d(256, 256, kernel_size=(3, 3), stride=(1, 1), padding=(1, 1), bias=False)\n",
      "      (bn2): BatchNorm2d(256, eps=1e-05, momentum=0.1, affine=True, track_running_stats=True)\n",
      "      (conv3): Conv2d(256, 1024, kernel_size=(1, 1), stride=(1, 1), bias=False)\n",
      "      (bn3): BatchNorm2d(1024, eps=1e-05, momentum=0.1, affine=True, track_running_stats=True)\n",
      "      (relu): ReLU(inplace=True)\n",
      "    )\n",
      "    (5): Bottleneck(\n",
      "      (conv1): Conv2d(1024, 256, kernel_size=(1, 1), stride=(1, 1), bias=False)\n",
      "      (bn1): BatchNorm2d(256, eps=1e-05, momentum=0.1, affine=True, track_running_stats=True)\n",
      "      (conv2): Conv2d(256, 256, kernel_size=(3, 3), stride=(1, 1), padding=(1, 1), bias=False)\n",
      "      (bn2): BatchNorm2d(256, eps=1e-05, momentum=0.1, affine=True, track_running_stats=True)\n",
      "      (conv3): Conv2d(256, 1024, kernel_size=(1, 1), stride=(1, 1), bias=False)\n",
      "      (bn3): BatchNorm2d(1024, eps=1e-05, momentum=0.1, affine=True, track_running_stats=True)\n",
      "      (relu): ReLU(inplace=True)\n",
      "    )\n",
      "  )\n",
      "  (layer4): Sequential(\n",
      "    (0): Bottleneck(\n",
      "      (conv1): Conv2d(1024, 512, kernel_size=(1, 1), stride=(1, 1), bias=False)\n",
      "      (bn1): BatchNorm2d(512, eps=1e-05, momentum=0.1, affine=True, track_running_stats=True)\n",
      "      (conv2): Conv2d(512, 512, kernel_size=(3, 3), stride=(2, 2), padding=(1, 1), bias=False)\n",
      "      (bn2): BatchNorm2d(512, eps=1e-05, momentum=0.1, affine=True, track_running_stats=True)\n",
      "      (conv3): Conv2d(512, 2048, kernel_size=(1, 1), stride=(1, 1), bias=False)\n",
      "      (bn3): BatchNorm2d(2048, eps=1e-05, momentum=0.1, affine=True, track_running_stats=True)\n",
      "      (relu): ReLU(inplace=True)\n",
      "      (downsample): Sequential(\n",
      "        (0): Conv2d(1024, 2048, kernel_size=(1, 1), stride=(2, 2), bias=False)\n",
      "        (1): BatchNorm2d(2048, eps=1e-05, momentum=0.1, affine=True, track_running_stats=True)\n",
      "      )\n",
      "    )\n",
      "    (1): Bottleneck(\n",
      "      (conv1): Conv2d(2048, 512, kernel_size=(1, 1), stride=(1, 1), bias=False)\n",
      "      (bn1): BatchNorm2d(512, eps=1e-05, momentum=0.1, affine=True, track_running_stats=True)\n",
      "      (conv2): Conv2d(512, 512, kernel_size=(3, 3), stride=(1, 1), padding=(1, 1), bias=False)\n",
      "      (bn2): BatchNorm2d(512, eps=1e-05, momentum=0.1, affine=True, track_running_stats=True)\n",
      "      (conv3): Conv2d(512, 2048, kernel_size=(1, 1), stride=(1, 1), bias=False)\n",
      "      (bn3): BatchNorm2d(2048, eps=1e-05, momentum=0.1, affine=True, track_running_stats=True)\n",
      "      (relu): ReLU(inplace=True)\n",
      "    )\n",
      "    (2): Bottleneck(\n",
      "      (conv1): Conv2d(2048, 512, kernel_size=(1, 1), stride=(1, 1), bias=False)\n",
      "      (bn1): BatchNorm2d(512, eps=1e-05, momentum=0.1, affine=True, track_running_stats=True)\n",
      "      (conv2): Conv2d(512, 512, kernel_size=(3, 3), stride=(1, 1), padding=(1, 1), bias=False)\n",
      "      (bn2): BatchNorm2d(512, eps=1e-05, momentum=0.1, affine=True, track_running_stats=True)\n",
      "      (conv3): Conv2d(512, 2048, kernel_size=(1, 1), stride=(1, 1), bias=False)\n",
      "      (bn3): BatchNorm2d(2048, eps=1e-05, momentum=0.1, affine=True, track_running_stats=True)\n",
      "      (relu): ReLU(inplace=True)\n",
      "    )\n",
      "  )\n",
      "  (avgpool): AdaptiveAvgPool2d(output_size=(1, 1))\n",
      "  (fc): Linear(in_features=2048, out_features=100, bias=True)\n",
      ")\n"
     ]
    }
   ],
   "source": [
    "print(MODEL)"
   ]
  },
  {
   "cell_type": "code",
   "execution_count": 20,
   "metadata": {},
   "outputs": [],
   "source": [
    "# \"\"\" RECURSIVE : Running This!!!\"\"\"\n",
    "\n",
    "# if RECURSIVE :\n",
    "#     img_idx = 0\n",
    "#     img_dict = dict(\n",
    "#         cifar100=None,\n",
    "#         cub=None,\n",
    "#         cars=None\n",
    "#     )\n",
    "#     for dataset in img_dict:\n",
    "#         trainloader, validloader, testloader, num_class = datasetload(dataset, batch_size=64)\n",
    "#         image = trainloader.dataset[img_idx][0]\n",
    "#         input_image = torch.unsqueeze(image, 0)\n",
    "#         img_dict[dataset] = input_image\n",
    "#     for weight_path in weight_files :\n",
    "#         conf = name_parser(weight_path)        \n",
    "#         input_image = img_dict[conf['dataset']]\n",
    "#         MODEL = select_model(conf['model'], CLASS_NUM[conf['dataset']])\n",
    "#         model_state = torch.load(weight_path)\n",
    "#         MODEL.load_state_dict(model_state)\n",
    "#         MODEL.eval()\n",
    "#         # for layer_name in layer_name_list:\n",
    "#         #     activation = {}\n",
    "#         #     visualize_feature_map(activation, MODEL, input_image, layer_name, conf, save=SAVE, show=SHOW)"
   ]
  },
  {
   "cell_type": "markdown",
   "metadata": {},
   "source": [
    "#### 2.3. weight distribution (each layer)\n",
    "visualize_weight_distribution : 모델을 이루는 각각의 레이어의 가중치 분포를 시각화 합니다."
   ]
  },
  {
   "cell_type": "code",
   "execution_count": 21,
   "metadata": {},
   "outputs": [],
   "source": [
    "if not RECURSIVE :\n",
    "    visualize_weight_distribution(MODEL, violin_sample=5000)"
   ]
  },
  {
   "cell_type": "code",
   "execution_count": 22,
   "metadata": {},
   "outputs": [],
   "source": [
    "# \"\"\" RECURSIVE : Running This!!!\"\"\"\n",
    "# if RECURSIVE :\n",
    "#     for weight_path in weight_files :\n",
    "#         conf = name_parser(weight_path)\n",
    "#         num_class = CLASS_NUM[conf['dataset']]\n",
    "        \n",
    "#         MODEL = select_model(conf['model'], num_class)\n",
    "#         model_state = torch.load(weight_path)\n",
    "#         MODEL.load_state_dict(model_state)\n",
    "        \n",
    "#         # visualize_weight_distribution(MODEL, conf, save=SAVE, show=SHOW, violin_sample=3000)"
   ]
  },
  {
   "cell_type": "markdown",
   "metadata": {},
   "source": [
    "#### 2.4. Dataset Distribution\n",
    "visualize_feature_distribution: 모델이 판단하는 CLASS와 실제 정답 CLASS의 분포를 비교합니다."
   ]
  },
  {
   "cell_type": "code",
   "execution_count": 23,
   "metadata": {},
   "outputs": [],
   "source": [
    "if not RECURSIVE : \n",
    "    features, labels, preds = get_feature_from_dataset(MODEL, 1000, testloader, layer_name, model_info[layer_name])\n",
    "    # print(features.shape)\n",
    "    # print(labels.shape)\n",
    "    # print(preds.shape)\n",
    "\n",
    "    embedding = get_umap_embedding(features)\n",
    "    #print(embedding.shape)\n",
    "    \n",
    "    visualize_feature_distribution(embedding, labels, preds, conf, layer_name, show=SHOW, save=SAVE)"
   ]
  },
  {
   "cell_type": "code",
   "execution_count": 24,
   "metadata": {},
   "outputs": [],
   "source": [
    "# \"\"\" RECURSIVE : Running This!!! \"\"\" # LAST #TODO\n",
    "# if RECURSIVE :\n",
    "#     for weight_path in weight_files :\n",
    "#         conf = name_parser(weight_path)\n",
    "#         trainloader, validloader, testloader, num_class = datasetload(conf['dataset'], batch_size=64)\n",
    "#         MODEL = select_model(conf['model'], num_class)\n",
    "#         model_state = torch.load(weight_path)\n",
    "#         MODEL.load_state_dict(model_state)\n",
    "        \n",
    "        # for layer_name in layer_name_list: \n",
    "        #     features, labels, preds = get_feature_from_dataset(MODEL, 1000, testloader, layer_name)\n",
    "        #     embedding = get_umap_embedding(features)\n",
    "        #     visualize_feature_distribution(embedding, labels, preds, conf, layer_name, num_class=7, show=SHOW, save=SAVE)"
   ]
  },
  {
   "cell_type": "markdown",
   "metadata": {},
   "source": [
    "#### 2.5. Gradient\n",
    "##### 2.5.1 Layer-CAM\n",
    "LayerCAM [16] is a simple modification of Grad-CAM [3], which can generate reliable class activation maps from different layers.\n",
    "visualize_class_activation_images: 모델이 이미지를 분류할 떄, 어떤 부분에 집중하여 판단하는지를 함께 표현하여 시각화합니다."
   ]
  },
  {
   "cell_type": "code",
   "execution_count": 25,
   "metadata": {},
   "outputs": [],
   "source": [
    "if not RECURSIVE:\n",
    "    data =  trainloader.dataset[img_idx]\n",
    "    origin_img, prep_img, target_class = get_info(data)\n",
    "    layer_number = 12  # [0, 12]\n",
    "\n",
    "    layer_cam = LayerCam(MODEL, layer_number)\n",
    "    cam = layer_cam.generate_cam(prep_img, target_class)\n",
    "    visualize_class_activation_images(origin_img, cam, conf, layer_number)\n",
    "\n",
    "    sns.set_style(\"white\")\n",
    "    visualize_tensor(data[0])"
   ]
  },
  {
   "cell_type": "code",
   "execution_count": 28,
   "metadata": {},
   "outputs": [],
   "source": [
    "# \"\"\" RECURSIVE : Running This!!! \"\"\" #TODO\n",
    "# if RECURSIVE :\n",
    "#     img_idx = 0\n",
    "#     img_dict = dict(\n",
    "#         cifar100=None,\n",
    "#         cub=None,\n",
    "#         cars=None\n",
    "#     )\n",
    "#     for dataset in img_dict:\n",
    "#         trainloader, validloader, testloader, num_class = datasetload(dataset, batch_size=64)\n",
    "#         data = trainloader.dataset[img_idx]\n",
    "#         img_dict[dataset] = data\n",
    "#     for weight_path in weight_files :\n",
    "#         conf = name_parser(weight_path)        \n",
    "#         data = img_dict[conf['dataset']]\n",
    "#         origin_img, prep_img, target_class = get_info(data)\n",
    "#         MODEL = select_model(conf['model'], CLASS_NUM[conf['dataset']])\n",
    "#         model_state = torch.load(weight_path)\n",
    "#         MODEL.load_state_dict(model_state)\n",
    "#         MODEL.eval()\n",
    "#         for idx, layer in enumerate(layer_name_list):\n",
    "#             layer_cam = LayerCam(MODEL, layer)\n",
    "#             cam = layer_cam.generate_cam(prep_img, target_class)\n",
    "#             visualize_class_activation_images(origin_img, cam, conf, idx, show=SHOW, save=SAVE)"
   ]
  },
  {
   "cell_type": "markdown",
   "metadata": {},
   "source": [
    "##### 2.5.2 Grad Times Image\n",
    "Another technique that is proposed is simply multiplying the gradients with the image itself.\n",
    "visualize_gradXimage: 모델이 주어진 이미지를 볼 때, 계산된 Gradient와 원본이미지의 곱으로 나타낸 그림을 시각화합니다."
   ]
  },
  {
   "cell_type": "code",
   "execution_count": 29,
   "metadata": {},
   "outputs": [],
   "source": [
    "if not RECURSIVE:\n",
    "    data =  trainloader.dataset[img_idx]\n",
    "    origin_img, prep_img, target_class = get_info(data)\n",
    "\n",
    "    visualize_gradXimage(prep_img, target_class, MODEL, conf, show=SHOW, save=SAVE)"
   ]
  },
  {
   "cell_type": "code",
   "execution_count": 30,
   "metadata": {},
   "outputs": [
    {
     "name": "stdout",
     "output_type": "stream",
     "text": [
      "Files already downloaded and verified\n",
      "Files already downloaded and verified\n",
      "Files already downloaded and verified\n",
      "Files already downloaded and verified\n",
      "Plot saved to ./results/figure/standard/resnet50/cars/GradXImage/vanila_grad.png\n",
      "Plot saved to ./results/figure/standard/resnet50/cub/GradXImage/vanila_grad.png\n",
      "Plot saved to ./results/figure/GBweva/resnet50/cars/GradXImage/vanila_grad.png\n",
      "Plot saved to ./results/figure/GBweva/resnet50/cub/GradXImage/vanila_grad.png\n",
      "Plot saved to ./results/figure/standard/resnet50/cifar100/GradXImage/vanila_grad.png\n",
      "Plot saved to ./results/figure/GBweva/resnet50/cifar100/GradXImage/vanila_grad.png\n"
     ]
    }
   ],
   "source": [
    "# \"\"\" RECURSIVE : Running This!!! \"\"\" #TODO\n",
    "# if RECURSIVE :\n",
    "#     img_idx = 0\n",
    "#     img_dict = dict(\n",
    "#         cifar100=None,\n",
    "#         cub=None,\n",
    "#         cars=None\n",
    "#     )\n",
    "#     for dataset in img_dict:\n",
    "#         trainloader, validloader, testloader, num_class = datasetload(dataset, batch_size=64)\n",
    "#         data = trainloader.dataset[img_idx]\n",
    "#         img_dict[dataset] = data\n",
    "#     for weight_path in weight_files :\n",
    "#         conf = name_parser(weight_path)        \n",
    "#         data = img_dict[conf['dataset']]\n",
    "#         origin_img, prep_img, target_class = get_info(data)\n",
    "\n",
    "#         MODEL = select_model(conf['model'], CLASS_NUM[conf['dataset']])\n",
    "#         model_state = torch.load(weight_path)\n",
    "#         MODEL.load_state_dict(model_state)\n",
    "#         MODEL.eval()\n",
    "\n",
    "#         visualize_gradXimage(prep_img, target_class, MODEL, conf, show=SHOW, save=SAVE)"
   ]
  },
  {
   "cell_type": "markdown",
   "metadata": {},
   "source": [
    "### 3. Comparison\n",
    "[!attention] 아래의 그래프를 그리기 전에, 반드시 1.3.을 사용하여 accuracy결과를 저장해야합니다."
   ]
  },
  {
   "cell_type": "code",
   "execution_count": 34,
   "metadata": {},
   "outputs": [],
   "source": [
    "df_dataset, df_freezing = get_performance_df(BEST_VALUES)\n",
    "\n",
    "# for group_key, df in df_dataset.items():\n",
    "#     print(f\"Group: {group_key}\")\n",
    "#     print(df)\n",
    "#     print()\n",
    "# for group_key, df in df_freezing.items():\n",
    "#     print(f\"Group: {group_key}\")\n",
    "#     print(df)\n",
    "#     print()\n",
    "\n",
    "# print(\"01100 freezing 설정을 사용하여 cifar100 데이터셋으로 파인튜닝한 모델의 값에 접근\")\n",
    "# group_df = df_dataset['cifar100']\n",
    "# print(group_df.loc['best_train_acc', '01100'])\n",
    "# group_df = df_freezing['01100']\n",
    "# print(group_df.loc['best_train_acc', 'cifar100'])"
   ]
  },
  {
   "cell_type": "markdown",
   "metadata": {},
   "source": [
    "#### 3.1. Accuracy / Loss (general)\n",
    "plot_comparison_each_dataset: 각 데이터셋 마다 layer-freezing 변화에 따른 accuracy, loss를 비교합니다."
   ]
  },
  {
   "cell_type": "code",
   "execution_count": 35,
   "metadata": {},
   "outputs": [],
   "source": [
    "if not RECURSIVE:\n",
    "    plot_comparison_each_dataset(df_dataset)"
   ]
  },
  {
   "cell_type": "code",
   "execution_count": 36,
   "metadata": {},
   "outputs": [
    {
     "ename": "KeyError",
     "evalue": "'cifar10'",
     "output_type": "error",
     "traceback": [
      "\u001b[0;31m---------------------------------------------------------------------------\u001b[0m",
      "\u001b[0;31mKeyError\u001b[0m                                  Traceback (most recent call last)",
      "Cell \u001b[0;32mIn[36], line 3\u001b[0m\n\u001b[1;32m      1\u001b[0m \u001b[38;5;124;03m\"\"\" RECURSIVE SAVE : Running This!!! \"\"\"\u001b[39;00m\n\u001b[1;32m      2\u001b[0m \u001b[38;5;28;01mif\u001b[39;00m RECURSIVE:\n\u001b[0;32m----> 3\u001b[0m     \u001b[43mplot_comparison_each_dataset\u001b[49m\u001b[43m(\u001b[49m\u001b[43mdf_dataset\u001b[49m\u001b[43m,\u001b[49m\u001b[43m \u001b[49m\u001b[43mshow\u001b[49m\u001b[38;5;241;43m=\u001b[39;49m\u001b[43mSHOW\u001b[49m\u001b[43m,\u001b[49m\u001b[43m \u001b[49m\u001b[43msave\u001b[49m\u001b[38;5;241;43m=\u001b[39;49m\u001b[43mSAVE\u001b[49m\u001b[43m)\u001b[49m\n",
      "File \u001b[0;32m~/LRS-GB/utils/visualize_tool.py:258\u001b[0m, in \u001b[0;36mplot_comparison_each_dataset\u001b[0;34m(df_dataset, show, save)\u001b[0m\n\u001b[1;32m    255\u001b[0m axes \u001b[38;5;241m=\u001b[39m axes\u001b[38;5;241m.\u001b[39mflatten()\n\u001b[1;32m    257\u001b[0m \u001b[38;5;28;01mfor\u001b[39;00m dataset \u001b[38;5;129;01min\u001b[39;00m datasets:\n\u001b[0;32m--> 258\u001b[0m     group_df \u001b[38;5;241m=\u001b[39m \u001b[43mdf_dataset\u001b[49m\u001b[43m[\u001b[49m\u001b[43mdataset\u001b[49m\u001b[43m]\u001b[49m\n\u001b[1;32m    259\u001b[0m     \u001b[38;5;28;01mfor\u001b[39;00m i, key \u001b[38;5;129;01min\u001b[39;00m \u001b[38;5;28menumerate\u001b[39m(keys) :\n\u001b[1;32m    260\u001b[0m         row_values \u001b[38;5;241m=\u001b[39m group_df\u001b[38;5;241m.\u001b[39mloc[key]\n",
      "\u001b[0;31mKeyError\u001b[0m: 'cifar10'"
     ]
    },
    {
     "data": {
      "image/png": "[encoded data removed]",
      "text/plain": [
       "<Figure size 2000x1200 with 4 Axes>"
      ]
     },
     "metadata": {},
     "output_type": "display_data"
    }
   ],
   "source": [
    "\"\"\" RECURSIVE SAVE : Running This!!! \"\"\"\n",
    "if RECURSIVE:\n",
    "    plot_comparison_each_dataset(df_dataset, show=SHOW, save=SAVE)"
   ]
  },
  {
   "cell_type": "markdown",
   "metadata": {},
   "source": [
    "#### 3.2. Accuracy / Loss (one-layer)\n",
    "plot_comparison_each_dataset_only_one: 각 데이터셋 마다 단 하나의 layer만을 선택하여 학습한 경우 acc / loss를 그립니다."
   ]
  },
  {
   "cell_type": "code",
   "execution_count": null,
   "metadata": {},
   "outputs": [],
   "source": [
    "if not RECURSIVE:\n",
    "    plot_comparison_each_dataset_only_one(df_dataset)"
   ]
  },
  {
   "cell_type": "code",
   "execution_count": null,
   "metadata": {},
   "outputs": [],
   "source": [
    "\"\"\" RECURSIVE SAVE : Running This!!! \"\"\"\n",
    "if RECURSIVE:\n",
    "    plot_comparison_each_dataset_only_one(df_dataset, show=SHOW, save=SAVE)"
   ]
  },
  {
   "cell_type": "markdown",
   "metadata": {},
   "source": [
    "#### 3.3. Accuracy / Loss (two-layer)\n",
    "plot_comparison_each_dataset_only_two: 각 데이터셋 마다 2개의 layer만을 선택하여 학습한 경우 acc / loss를 그립니다."
   ]
  },
  {
   "cell_type": "code",
   "execution_count": null,
   "metadata": {},
   "outputs": [],
   "source": [
    "if not RECURSIVE:\n",
    "    plot_comparison_each_dataset_only_two(df_dataset)"
   ]
  },
  {
   "cell_type": "code",
   "execution_count": null,
   "metadata": {},
   "outputs": [],
   "source": [
    "\"\"\" RECURSIVE SAVE : Running This!!! \"\"\"\n",
    "if RECURSIVE:\n",
    "    plot_comparison_each_dataset_only_two(df_dataset, show=SHOW, save=SAVE)"
   ]
  },
  {
   "cell_type": "code",
   "execution_count": null,
   "metadata": {},
   "outputs": [],
   "source": []
  }
 ],
 "metadata": {
  "kernelspec": {
   "display_name": "ALIVE",
   "language": "python",
   "name": "python3"
  },
  "language_info": {
   "codemirror_mode": {
    "name": "ipython",
    "version": 3
   },
   "file_extension": ".py",
   "mimetype": "text/x-python",
   "name": "python",
   "nbconvert_exporter": "python",
   "pygments_lexer": "ipython3",
   "version": "3.10.11"
  }
 },
 "nbformat": 4,
 "nbformat_minor": 2
}
