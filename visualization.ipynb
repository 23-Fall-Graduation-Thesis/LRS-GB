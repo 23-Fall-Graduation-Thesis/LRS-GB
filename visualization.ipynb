{
 "cells": [
  {
   "cell_type": "markdown",
   "metadata": {},
   "source": [
    "### 0.1 Import Package"
   ]
  },
  {
   "cell_type": "code",
   "execution_count": 1,
   "metadata": {},
   "outputs": [
    {
     "name": "stdout",
     "output_type": "stream",
     "text": [
      "PyTorch Version:  2.1.0+cu121\n",
      "Torchvision Version:  0.16.0+cu121\n"
     ]
    }
   ],
   "source": [
    "import os\n",
    "from pyprnt import prnt\n",
    "import pandas as pd\n",
    "import seaborn as sns\n",
    "import matplotlib.pyplot as plt\n",
    "import random\n",
    "import numpy as np\n",
    "\n",
    "from tqdm import tqdm\n",
    "import warnings\n",
    "warnings.filterwarnings(\"ignore\")\n",
    "from tensorboard.backend.event_processing.event_accumulator import EventAccumulator\n",
    "\n",
    "import torch\n",
    "import torchvision\n",
    "from torchsummary import summary\n",
    "\n",
    "print(\"PyTorch Version: \",torch.__version__)\n",
    "print(\"Torchvision Version: \",torchvision.__version__)\n",
    "\n",
    "device = torch.device(\"cuda:0\")\n",
    "\n",
    "def set_seed(seed=2023):\n",
    "    random.seed(seed)\n",
    "    np.random.seed(seed)\n",
    "    torch.manual_seed(seed)\n",
    "    torch.cuda.manual_seed(seed)\n",
    "    torch.cuda.manual_seed_all(seed)\n",
    "    torch.backends.cudnn.deterministic = True\n",
    "    torch.backends.cudnn.benchmark = False\n",
    "set_seed(2023)"
   ]
  },
  {
   "cell_type": "code",
   "execution_count": 2,
   "metadata": {},
   "outputs": [],
   "source": [
    "\"\"\" User Define function \"\"\"\n",
    "\n",
    "# from model.models import Conv4\n",
    "\n",
    "from model.pretrained_models import select_model\n",
    "from dataset_dir.datasets import datasetload\n",
    "\n",
    "from utils.util_functions import name_parser\n",
    "from utils.util_functions import get_alias\n",
    "\n",
    "from utils.visualize_tool import visualize_tensor\n",
    "from utils.visualize_tool import visualize_filters\n",
    "from utils.visualize_tool import visualize_feature_map\n",
    "from utils.visualize_tool import visualize_weight_distribution\n",
    "\n",
    "from utils.get_data import get_feature_from_dataset\n",
    "from utils.visualize_tool import visualize_feature_distribution\n",
    "from utils.util_functions import get_umap_embedding\n",
    "from utils.visualize_tool import visualize_class_activation_images\n",
    "from utils.visualize_grad import LayerCam\n",
    "from utils.util_functions import get_info\n",
    "\n",
    "from utils.get_data import get_performance_df\n",
    "from utils.visualize_tool import plot_comparison_each_dataset\n",
    "from utils.visualize_tool import plot_comparison_each_dataset_only_one\n",
    "from utils.visualize_tool import plot_comparison_each_dataset_only_two\n",
    "from utils.visualize_tool import visualize_gradXimage"
   ]
  },
  {
   "cell_type": "markdown",
   "metadata": {},
   "source": [
    "### 0.2. Directory Setting"
   ]
  },
  {
   "cell_type": "code",
   "execution_count": 3,
   "metadata": {},
   "outputs": [],
   "source": [
    "\"\"\" IMPORTANT\n",
    "\n",
    "RECURSIVE\n",
    "- if you want visualization all weight in your directory, then RECURSIVE  = TRUE\n",
    "- else, you want visualization specific log in your directory, then RECURSIVE = FALSE\n",
    "\n",
    "SAVE\n",
    "- if you want save all visualization image, then SAVE = TRUE\n",
    "- else, you don't want save image, then SAVE = FALSE\n",
    "\n",
    "SHOW\n",
    "- if you want visualization result in this jupyter kernel, then SHOW = TRUE\n",
    "- else, you don't want show image in jupyter kernel, then SHOW = FALSE\n",
    "\n",
    "\"\"\"\n",
    "\n",
    "RECURSIVE = True\n",
    "SAVE = True\n",
    "SHOW = False"
   ]
  },
  {
   "cell_type": "markdown",
   "metadata": {},
   "source": [
    "Specific model setting: 특정한 모델을 확인하기 위해"
   ]
  },
  {
   "cell_type": "code",
   "execution_count": 4,
   "metadata": {},
   "outputs": [],
   "source": [
    "if not RECURSIVE :\n",
    "    conf = dict(\n",
    "        epoch=100,\n",
    "        lr=0.001,\n",
    "        stepsize=50,\n",
    "        gamma=0.1,\n",
    "        model=\"resnet18\",\n",
    "        dataset=\"cub\",\n",
    "        pretrain=False,\n",
    "        mode=\"cus\"\n",
    "    )\n",
    "    MODEL_DIR = \"./VISMODEL\"\n",
    "\n",
    "    name = str(conf['model'])+\"_\"+str(conf['dataset'])+\"_\"+str(conf['mode'])\n",
    "    model_path = MODEL_DIR + name +\".pt\"\n",
    "    #log_path = LOG_DIR +  name\n",
    "\n",
    "\n",
    "    print(model_path)\n",
    "    #print(log_path)"
   ]
  },
  {
   "cell_type": "markdown",
   "metadata": {},
   "source": [
    "Entire model setting: directory에 저장되어있는 전체 모델을 확인하기 위해"
   ]
  },
  {
   "cell_type": "code",
   "execution_count": 5,
   "metadata": {},
   "outputs": [
    {
     "name": "stdout",
     "output_type": "stream",
     "text": [
      "3\n",
      "['./VISMODEL\\\\resnet18_aircraft_GBwevaSS.pt', './VISMODEL\\\\resnet18_aircraft_GBwevaSSOverfit.pt', './VISMODEL\\\\resnet18_aircraft_standard.pt']\n"
     ]
    }
   ],
   "source": [
    "if RECURSIVE :\n",
    "    MODEL_DIR = \"./VISMODEL\"\n",
    "    # LOG_DIR = \"./results/best_log18\"\n",
    "\n",
    "    weight_files = [os.path.join(MODEL_DIR, file) for file in os.listdir(MODEL_DIR) if os.path.isfile(os.path.join(MODEL_DIR, file))]\n",
    "    # log_files = [os.path.join(LOG_DIR, file) for file in os.listdir(LOG_DIR)]\n",
    "\n",
    "    print(len(weight_files))\n",
    "    print(weight_files)\n",
    "    # print(len(log_files))\n",
    "    # #print(log_files[0])"
   ]
  },
  {
   "cell_type": "markdown",
   "metadata": {},
   "source": [
    "### 1. Architecture\n",
    "특정 데이터셋, 모델의 구조를 확인하기 위한 코드. RECURSIVE하게 모든 weight파일에 대해서 동작하지 않습니다."
   ]
  },
  {
   "cell_type": "code",
   "execution_count": 6,
   "metadata": {},
   "outputs": [],
   "source": [
    "if not RECURSIVE :\n",
    "    trainloader, validloader, testloader, num_class = datasetload(conf['dataset'])\n",
    "    MODEL = select_model(conf['model'], num_class)\n",
    "    model_state = torch.load(model_path)\n",
    "    MODEL.load_state_dict(model_state)"
   ]
  },
  {
   "cell_type": "markdown",
   "metadata": {},
   "source": [
    "#### 1.1 Model Architecture"
   ]
  },
  {
   "cell_type": "code",
   "execution_count": 7,
   "metadata": {},
   "outputs": [],
   "source": [
    "if not RECURSIVE :\n",
    "    print(MODEL)"
   ]
  },
  {
   "cell_type": "code",
   "execution_count": 8,
   "metadata": {},
   "outputs": [],
   "source": [
    "if not RECURSIVE :\n",
    "    summary(MODEL, (3, 224, 224), device='cpu')"
   ]
  },
  {
   "cell_type": "markdown",
   "metadata": {},
   "source": [
    "*사용하고자하는 모델의 layer에 대한 정보를 기록합니다. (e.g., Alexnet)"
   ]
  },
  {
   "cell_type": "code",
   "execution_count": 9,
   "metadata": {},
   "outputs": [],
   "source": [
    "# setting\n",
    "CLASS_NUM = dict(\n",
    "    cifar100=100,\n",
    "    cub=200,\n",
    "    cars=196,\n",
    "    aircraft=100,\n",
    ")"
   ]
  },
  {
   "cell_type": "code",
   "execution_count": 10,
   "metadata": {},
   "outputs": [
    {
     "name": "stdout",
     "output_type": "stream",
     "text": [
      "{'mode': 'GBwevaSS', 'model': 'resnet18', 'dataset': 'aircraft'}\n",
      "['', 'conv1', 'bn1', 'relu', 'maxpool', 'layer1', 'layer1.0', 'layer1.0.conv1', 'layer1.0.bn1', 'layer1.0.relu', 'layer1.0.conv2', 'layer1.0.bn2', 'layer1.1', 'layer1.1.conv1', 'layer1.1.bn1', 'layer1.1.relu', 'layer1.1.conv2', 'layer1.1.bn2', 'layer2', 'layer2.0', 'layer2.0.conv1', 'layer2.0.bn1', 'layer2.0.relu', 'layer2.0.conv2', 'layer2.0.bn2', 'layer2.0.downsample', 'layer2.0.downsample.0', 'layer2.0.downsample.1', 'layer2.1', 'layer2.1.conv1', 'layer2.1.bn1', 'layer2.1.relu', 'layer2.1.conv2', 'layer2.1.bn2', 'layer3', 'layer3.0', 'layer3.0.conv1', 'layer3.0.bn1', 'layer3.0.relu', 'layer3.0.conv2', 'layer3.0.bn2', 'layer3.0.downsample', 'layer3.0.downsample.0', 'layer3.0.downsample.1', 'layer3.1', 'layer3.1.conv1', 'layer3.1.bn1', 'layer3.1.relu', 'layer3.1.conv2', 'layer3.1.bn2', 'layer4', 'layer4.0', 'layer4.0.conv1', 'layer4.0.bn1', 'layer4.0.relu', 'layer4.0.conv2', 'layer4.0.bn2', 'layer4.0.downsample', 'layer4.0.downsample.0', 'layer4.0.downsample.1', 'layer4.1', 'layer4.1.conv1', 'layer4.1.bn1', 'layer4.1.relu', 'layer4.1.conv2', 'layer4.1.bn2', 'avgpool', 'fc']\n",
      "conv2\n"
     ]
    }
   ],
   "source": [
    "temp_conf = name_parser(weight_files[0])\n",
    "temp_conf['model'] = temp_conf['model'].split(\"\\\\\")[-1]\n",
    "print(temp_conf)\n",
    "\n",
    "num_class = CLASS_NUM[temp_conf['dataset']]\n",
    "temp_model = select_model(temp_conf['model'], num_class)\n",
    "temp_layer_names = [name for name, _ in temp_model.named_modules()]\n",
    "print(temp_layer_names)\n",
    "\n",
    "# setting\n",
    "if temp_conf['model'] == 'resnet18':\n",
    "    layer_name_list = ['conv1', 'layer1.0.conv2', 'layer1.1.conv2', 'layer2.0.conv2', 'layer2.1.conv2', \\\n",
    "                'layer3.0.conv2', 'layer3.1.conv2', 'layer4.0.conv2', 'layer4.1.conv2']\n",
    "    model_info = dict(\n",
    "    conv1=0, conv2=10, conv3=11, conv4=20, conv5=21, conv6=30, conv7=31, conv8=40, conv9=41)   \n",
    "elif temp_conf['model'] == 'resnet50':\n",
    "    layer_name_list = ['conv1', 'layer1.0.conv2', 'layer1.1.conv2', 'layer1.2.conv2', 'layer2.0.conv2', 'layer2.1.conv2', \\\n",
    "                'layer2.2.conv2', 'layer2.3.conv2', 'layer3.0.conv2', 'layer3.1.conv2', 'layer3.2.conv2', 'layer3.3.conv2', \\\n",
    "                'layer3.4.conv2', 'layer3.5.conv2', 'layer4.0.conv2', 'layer4.1.conv2', 'layer4.2.conv2']\n",
    "    model_info = dict(\n",
    "    conv1=0, conv2=10, conv3=11, conv4=12, conv5=20, conv6=21, conv7=22, conv8=23, conv9=30, conv10=31, conv11=32, conv12=33, conv13=34, conv14=35, conv15=40, conv16=41, conv17=42)   \n",
    "else: # alexnet\n",
    "    layer_name_list = ['features.0', 'features.3', 'features.6', 'features.8', 'features.10']\n",
    "    model_info = dict(\n",
    "    conv1=0,\n",
    "    conv2=3,\n",
    "    conv3=6,\n",
    "    conv4=8,\n",
    "    conv5=10)   \n",
    "print(get_alias(layer_name_list[1], model_info, model=temp_conf['model']))"
   ]
  },
  {
   "cell_type": "markdown",
   "metadata": {},
   "source": [
    "#### 1.2 Dataset Property"
   ]
  },
  {
   "cell_type": "code",
   "execution_count": 11,
   "metadata": {},
   "outputs": [],
   "source": [
    "if not RECURSIVE :\n",
    "    print(num_class)\n",
    "    print(len(trainloader.dataset))\n",
    "    print(len(validloader.dataset))\n",
    "    print(len(testloader.dataset))"
   ]
  },
  {
   "cell_type": "code",
   "execution_count": 12,
   "metadata": {},
   "outputs": [],
   "source": [
    "if not RECURSIVE :\n",
    "    img_idx = 0\n",
    "    image = trainloader.dataset[img_idx][0]\n",
    "    print(image.shape)\n",
    "\n",
    "    sns.set_style(\"white\")\n",
    "    visualize_tensor(image)"
   ]
  },
  {
   "cell_type": "markdown",
   "metadata": {},
   "source": [
    "#### 1.3 Train/Val Best Accuracy save"
   ]
  },
  {
   "cell_type": "code",
   "execution_count": 13,
   "metadata": {},
   "outputs": [],
   "source": [
    "def get_best_accuracy(path):\n",
    "    event_acc = EventAccumulator(path)\n",
    "    event_acc.Reload()\n",
    "\n",
    "    if 'scalars' in event_acc.Tags():\n",
    "        scalar_tags = event_acc.Tags()['scalars']\n",
    "        \n",
    "        for i, tag in enumerate(scalar_tags):\n",
    "            values = event_acc.Scalars(tag)\n",
    "            max_value = max(v.value for v in values)\n",
    "            min_value = min(v.value for v in values)\n",
    "            if tag == 'Acc/train':\n",
    "                best_train_acc = max_value\n",
    "            elif tag == 'Acc/val':\n",
    "                best_val_acc = max_value\n",
    "            elif tag == 'Loss/train':\n",
    "                best_train_loss = min_value\n",
    "            elif tag == 'Loss/val':\n",
    "                best_val_loss = min_value\n",
    "    \n",
    "    return best_train_acc, best_val_acc, best_train_loss, best_val_loss"
   ]
  },
  {
   "cell_type": "code",
   "execution_count": 14,
   "metadata": {},
   "outputs": [],
   "source": [
    "# \"\"\" RECURSIVE : Running This!!!\"\"\"\n",
    "# BEST_VALUES = {}\n",
    "\n",
    "# for log_path in log_files :\n",
    "#     conf = name_parser(log_path)\n",
    "#     best_train_acc, best_val_acc, best_train_loss, best_val_loss = get_best_accuracy(log_path)\n",
    "#     alias = conf[\"dataset\"]+\"-\"+conf[\"mode\"]\n",
    "#     BEST_VALUES[alias] = {'best_train_acc': best_train_acc, 'best_val_acc': best_val_acc, 'best_train_loss': best_train_loss, 'best_val_loss': best_val_loss}\n",
    "\n",
    "# prnt(BEST_VALUES)"
   ]
  },
  {
   "cell_type": "markdown",
   "metadata": {},
   "source": [
    "#### 1.4 Train Log Print"
   ]
  },
  {
   "cell_type": "code",
   "execution_count": 15,
   "metadata": {},
   "outputs": [],
   "source": [
    "# def draw_log(path, isSave=False, overlap=True):\n",
    "#     conf = name_parser(path)\n",
    "#     event_acc = EventAccumulator(path)\n",
    "#     event_acc.Reload()\n",
    "\n",
    "#     if 'scalars' in event_acc.Tags():\n",
    "#         scalar_tags = event_acc.Tags()['scalars']\n",
    "\n",
    "#         if not overlap :\n",
    "#             plt.figure(figsize=(13, 10))\n",
    "#             sns.set()\n",
    "\n",
    "#         for i, tag in enumerate(scalar_tags):\n",
    "#             values = event_acc.Scalars(tag)\n",
    "#             steps = [v.step for v in values]\n",
    "#             data = [v.value for v in values]\n",
    "            \n",
    "#             df = pd.DataFrame({'Step': steps, tag: data})\n",
    "\n",
    "#             plt.subplot(2, 2, i + 1)\n",
    "#             sns.lineplot(x='Step', y=tag, data=df, label=conf['dataset']+\"(\"+conf['freeze']+\")\" )\n",
    "#             plt.xlabel('Steps')\n",
    "#             plt.ylabel(tag)\n",
    "#             plt.title(f'{tag} over Time')\n",
    "            \n",
    "#         plt.tight_layout()\n",
    "#         if not overlap :\n",
    "#             plt.show()\n",
    "\n",
    "# if not RECURSIVE :\n",
    "#     draw_log(log_path, SAVE)\n",
    "\n",
    "# else :\n",
    "#     plt.figure(figsize=(13, 10))\n",
    "#     sns.set()\n",
    "#     for log_path in log_files :\n",
    "#         draw_log(log_path)\n",
    "#     plt.show()"
   ]
  },
  {
   "cell_type": "markdown",
   "metadata": {},
   "source": [
    "### 2. Visualization"
   ]
  },
  {
   "cell_type": "markdown",
   "metadata": {},
   "source": [
    "#### 2.1. cnn Filter visualization\n",
    "visualize_filters : 모델을 이루는 각각의 convolution 필터의 가중치를 시각화 합니다. (constraint: 1st channel)"
   ]
  },
  {
   "cell_type": "code",
   "execution_count": 16,
   "metadata": {},
   "outputs": [],
   "source": [
    "if not RECURSIVE:\n",
    "    layer_name = \"features.0\"\n",
    "    visualize_filters(model_info, MODEL, layer_name, ncols=32, nchannel=5, showAll=False)"
   ]
  },
  {
   "cell_type": "code",
   "execution_count": 35,
   "metadata": {},
   "outputs": [
    {
     "name": "stderr",
     "output_type": "stream",
     "text": [
      "  0%|          | 0/3 [00:00<?, ?it/s]"
     ]
    },
    {
     "name": "stdout",
     "output_type": "stream",
     "text": [
      "Plot saved to ./results/figure/GBwevaSS\\resnet18\\aircraft\\VisFilter\\#layer_conv1_#channel_0.png\n",
      "Plot saved to ./results/figure/GBwevaSS\\resnet18\\aircraft\\VisFilter\\#layer_conv1_#channel_1.png\n",
      "Plot saved to ./results/figure/GBwevaSS\\resnet18\\aircraft\\VisFilter\\#layer_conv1_#channel_2.png\n",
      "Plot saved to ./results/figure/GBwevaSS\\resnet18\\aircraft\\VisFilter\\#layer_conv2_#channel_0.png\n",
      "Plot saved to ./results/figure/GBwevaSS\\resnet18\\aircraft\\VisFilter\\#layer_conv2_#channel_1.png\n",
      "Plot saved to ./results/figure/GBwevaSS\\resnet18\\aircraft\\VisFilter\\#layer_conv2_#channel_2.png\n",
      "Plot saved to ./results/figure/GBwevaSS\\resnet18\\aircraft\\VisFilter\\#layer_conv2_#channel_3.png\n",
      "Plot saved to ./results/figure/GBwevaSS\\resnet18\\aircraft\\VisFilter\\#layer_conv2_#channel_4.png\n",
      "Plot saved to ./results/figure/GBwevaSS\\resnet18\\aircraft\\VisFilter\\#layer_conv3_#channel_0.png\n",
      "Plot saved to ./results/figure/GBwevaSS\\resnet18\\aircraft\\VisFilter\\#layer_conv3_#channel_1.png\n",
      "Plot saved to ./results/figure/GBwevaSS\\resnet18\\aircraft\\VisFilter\\#layer_conv3_#channel_2.png\n",
      "Plot saved to ./results/figure/GBwevaSS\\resnet18\\aircraft\\VisFilter\\#layer_conv3_#channel_3.png\n",
      "Plot saved to ./results/figure/GBwevaSS\\resnet18\\aircraft\\VisFilter\\#layer_conv3_#channel_4.png\n",
      "Plot saved to ./results/figure/GBwevaSS\\resnet18\\aircraft\\VisFilter\\#layer_conv4_#channel_0.png\n",
      "Plot saved to ./results/figure/GBwevaSS\\resnet18\\aircraft\\VisFilter\\#layer_conv4_#channel_1.png\n",
      "Plot saved to ./results/figure/GBwevaSS\\resnet18\\aircraft\\VisFilter\\#layer_conv4_#channel_2.png\n",
      "Plot saved to ./results/figure/GBwevaSS\\resnet18\\aircraft\\VisFilter\\#layer_conv4_#channel_3.png\n",
      "Plot saved to ./results/figure/GBwevaSS\\resnet18\\aircraft\\VisFilter\\#layer_conv4_#channel_4.png\n",
      "Plot saved to ./results/figure/GBwevaSS\\resnet18\\aircraft\\VisFilter\\#layer_conv5_#channel_0.png\n",
      "Plot saved to ./results/figure/GBwevaSS\\resnet18\\aircraft\\VisFilter\\#layer_conv5_#channel_1.png\n",
      "Plot saved to ./results/figure/GBwevaSS\\resnet18\\aircraft\\VisFilter\\#layer_conv5_#channel_2.png\n",
      "Plot saved to ./results/figure/GBwevaSS\\resnet18\\aircraft\\VisFilter\\#layer_conv5_#channel_3.png\n",
      "Plot saved to ./results/figure/GBwevaSS\\resnet18\\aircraft\\VisFilter\\#layer_conv5_#channel_4.png\n",
      "Plot saved to ./results/figure/GBwevaSS\\resnet18\\aircraft\\VisFilter\\#layer_conv6_#channel_0.png\n",
      "Plot saved to ./results/figure/GBwevaSS\\resnet18\\aircraft\\VisFilter\\#layer_conv6_#channel_1.png\n",
      "Plot saved to ./results/figure/GBwevaSS\\resnet18\\aircraft\\VisFilter\\#layer_conv6_#channel_2.png\n",
      "Plot saved to ./results/figure/GBwevaSS\\resnet18\\aircraft\\VisFilter\\#layer_conv6_#channel_3.png\n",
      "Plot saved to ./results/figure/GBwevaSS\\resnet18\\aircraft\\VisFilter\\#layer_conv6_#channel_4.png\n",
      "Plot saved to ./results/figure/GBwevaSS\\resnet18\\aircraft\\VisFilter\\#layer_conv7_#channel_0.png\n",
      "Plot saved to ./results/figure/GBwevaSS\\resnet18\\aircraft\\VisFilter\\#layer_conv7_#channel_1.png\n",
      "Plot saved to ./results/figure/GBwevaSS\\resnet18\\aircraft\\VisFilter\\#layer_conv7_#channel_2.png\n",
      "Plot saved to ./results/figure/GBwevaSS\\resnet18\\aircraft\\VisFilter\\#layer_conv7_#channel_3.png\n",
      "Plot saved to ./results/figure/GBwevaSS\\resnet18\\aircraft\\VisFilter\\#layer_conv7_#channel_4.png\n",
      "Plot saved to ./results/figure/GBwevaSS\\resnet18\\aircraft\\VisFilter\\#layer_conv8_#channel_0.png\n",
      "Plot saved to ./results/figure/GBwevaSS\\resnet18\\aircraft\\VisFilter\\#layer_conv8_#channel_1.png\n",
      "Plot saved to ./results/figure/GBwevaSS\\resnet18\\aircraft\\VisFilter\\#layer_conv8_#channel_2.png\n",
      "Plot saved to ./results/figure/GBwevaSS\\resnet18\\aircraft\\VisFilter\\#layer_conv8_#channel_3.png\n",
      "Plot saved to ./results/figure/GBwevaSS\\resnet18\\aircraft\\VisFilter\\#layer_conv8_#channel_4.png\n",
      "Plot saved to ./results/figure/GBwevaSS\\resnet18\\aircraft\\VisFilter\\#layer_conv9_#channel_0.png\n",
      "Plot saved to ./results/figure/GBwevaSS\\resnet18\\aircraft\\VisFilter\\#layer_conv9_#channel_1.png\n",
      "Plot saved to ./results/figure/GBwevaSS\\resnet18\\aircraft\\VisFilter\\#layer_conv9_#channel_2.png\n",
      "Plot saved to ./results/figure/GBwevaSS\\resnet18\\aircraft\\VisFilter\\#layer_conv9_#channel_3.png\n"
     ]
    },
    {
     "name": "stderr",
     "output_type": "stream",
     "text": [
      "  0%|          | 0/3 [04:09<?, ?it/s]"
     ]
    },
    {
     "name": "stdout",
     "output_type": "stream",
     "text": [
      "Plot saved to ./results/figure/GBwevaSS\\resnet18\\aircraft\\VisFilter\\#layer_conv9_#channel_4.png\n"
     ]
    },
    {
     "name": "stderr",
     "output_type": "stream",
     "text": [
      "\n"
     ]
    }
   ],
   "source": [
    "\"\"\" RECURSIVE : Running This!!!\"\"\"\n",
    "if RECURSIVE:\n",
    "    for weight_path in tqdm(weight_files) :\n",
    "        conf = name_parser(weight_path)\n",
    "        conf['model'] = conf['model'].split(\"\\\\\")[-1]\n",
    "        num_class = CLASS_NUM[conf['dataset']]\n",
    "\n",
    "        MODEL = select_model(conf['model'], num_class)\n",
    "#        conf['mode'] = \"Pre_Train\"\n",
    "        model_state = torch.load(weight_path)\n",
    "        MODEL.load_state_dict(model_state)\n",
    "            \n",
    "        for layer_name in layer_name_list :\n",
    "            visualize_filters(model_info, MODEL, layer_name, conf, save=SAVE, show=SHOW, ncols=32, nchannel=5, showAll=False)\n",
    "        \n",
    "        break"
   ]
  },
  {
   "cell_type": "markdown",
   "metadata": {},
   "source": [
    "#### 2.2. Feature map Visualize\n",
    "visualize_feature_map : 특정 입력 이미지에 대해 모델의 각 레이어를 통과했을 때 feature_map을 시각화 합니다. (constraint: 1st feature map)"
   ]
  },
  {
   "cell_type": "code",
   "execution_count": 18,
   "metadata": {},
   "outputs": [],
   "source": [
    "if not RECURSIVE :\n",
    "    layer_name = 'conv2'\n",
    "    input_image = torch.unsqueeze(image, 0)\n",
    "\n",
    "    activation = {}\n",
    "    visualize_feature_map(activation, MODEL, input_image, layer_name, model_info[layer_name])"
   ]
  },
  {
   "cell_type": "code",
   "execution_count": 21,
   "metadata": {},
   "outputs": [
    {
     "name": "stdout",
     "output_type": "stream",
     "text": [
      "Files already downloaded and verified\n",
      "Files already downloaded and verified\n",
      "Files already downloaded and verified\n",
      "Files already downloaded and verified\n",
      "Plot saved to ./results/figure/GBwevaSS\\resnet18\\aircraft\\VisActivation\\#layer_conv1.png\n",
      "Plot saved to ./results/figure/GBwevaSS\\resnet18\\aircraft\\VisActivation\\#layer_layer1.0.conv2.png\n",
      "Plot saved to ./results/figure/GBwevaSS\\resnet18\\aircraft\\VisActivation\\#layer_layer1.1.conv2.png\n",
      "Plot saved to ./results/figure/GBwevaSS\\resnet18\\aircraft\\VisActivation\\#layer_layer2.0.conv2.png\n",
      "Plot saved to ./results/figure/GBwevaSS\\resnet18\\aircraft\\VisActivation\\#layer_layer2.1.conv2.png\n",
      "Plot saved to ./results/figure/GBwevaSS\\resnet18\\aircraft\\VisActivation\\#layer_layer3.0.conv2.png\n",
      "Plot saved to ./results/figure/GBwevaSS\\resnet18\\aircraft\\VisActivation\\#layer_layer3.1.conv2.png\n",
      "Plot saved to ./results/figure/GBwevaSS\\resnet18\\aircraft\\VisActivation\\#layer_layer4.0.conv2.png\n",
      "Plot saved to ./results/figure/GBwevaSS\\resnet18\\aircraft\\VisActivation\\#layer_layer4.1.conv2.png\n",
      "Plot saved to ./results/figure/GBwevaSSOverfit\\resnet18\\aircraft\\VisActivation\\#layer_conv1.png\n",
      "Plot saved to ./results/figure/GBwevaSSOverfit\\resnet18\\aircraft\\VisActivation\\#layer_layer1.0.conv2.png\n",
      "Plot saved to ./results/figure/GBwevaSSOverfit\\resnet18\\aircraft\\VisActivation\\#layer_layer1.1.conv2.png\n",
      "Plot saved to ./results/figure/GBwevaSSOverfit\\resnet18\\aircraft\\VisActivation\\#layer_layer2.0.conv2.png\n",
      "Plot saved to ./results/figure/GBwevaSSOverfit\\resnet18\\aircraft\\VisActivation\\#layer_layer2.1.conv2.png\n",
      "Plot saved to ./results/figure/GBwevaSSOverfit\\resnet18\\aircraft\\VisActivation\\#layer_layer3.0.conv2.png\n",
      "Plot saved to ./results/figure/GBwevaSSOverfit\\resnet18\\aircraft\\VisActivation\\#layer_layer3.1.conv2.png\n",
      "Plot saved to ./results/figure/GBwevaSSOverfit\\resnet18\\aircraft\\VisActivation\\#layer_layer4.0.conv2.png\n",
      "Plot saved to ./results/figure/GBwevaSSOverfit\\resnet18\\aircraft\\VisActivation\\#layer_layer4.1.conv2.png\n",
      "Plot saved to ./results/figure/standard\\resnet18\\aircraft\\VisActivation\\#layer_conv1.png\n",
      "Plot saved to ./results/figure/standard\\resnet18\\aircraft\\VisActivation\\#layer_layer1.0.conv2.png\n",
      "Plot saved to ./results/figure/standard\\resnet18\\aircraft\\VisActivation\\#layer_layer1.1.conv2.png\n",
      "Plot saved to ./results/figure/standard\\resnet18\\aircraft\\VisActivation\\#layer_layer2.0.conv2.png\n",
      "Plot saved to ./results/figure/standard\\resnet18\\aircraft\\VisActivation\\#layer_layer2.1.conv2.png\n",
      "Plot saved to ./results/figure/standard\\resnet18\\aircraft\\VisActivation\\#layer_layer3.0.conv2.png\n",
      "Plot saved to ./results/figure/standard\\resnet18\\aircraft\\VisActivation\\#layer_layer3.1.conv2.png\n",
      "Plot saved to ./results/figure/standard\\resnet18\\aircraft\\VisActivation\\#layer_layer4.0.conv2.png\n",
      "Plot saved to ./results/figure/standard\\resnet18\\aircraft\\VisActivation\\#layer_layer4.1.conv2.png\n"
     ]
    }
   ],
   "source": [
    "\"\"\" RECURSIVE : Running This!!!\"\"\"\n",
    "\n",
    "if RECURSIVE :\n",
    "    img_idx = 0\n",
    "    img_dict = dict(\n",
    "        cifar100=None,\n",
    "        cub=None,\n",
    "        aircraft=None\n",
    "    )\n",
    "    for dataset in img_dict:\n",
    "        trainloader, validloader, testloader, num_class = datasetload(dataset, batch_size=64)\n",
    "        image = trainloader.dataset[img_idx][0]\n",
    "        input_image = torch.unsqueeze(image, 0)\n",
    "        img_dict[dataset] = input_image\n",
    "    for weight_path in weight_files :\n",
    "        conf = name_parser(weight_path)\n",
    "        conf['model'] = conf['model'].split(\"\\\\\")[-1]\n",
    "        input_image = img_dict[conf['dataset']]\n",
    "        MODEL = select_model(conf['model'], CLASS_NUM[conf['dataset']])\n",
    "        model_state = torch.load(weight_path)\n",
    "        MODEL.load_state_dict(model_state)\n",
    "        MODEL.eval()\n",
    "        for layer_name in layer_name_list:\n",
    "            activation = {}\n",
    "            visualize_feature_map(activation, MODEL, input_image, layer_name, conf, save=SAVE, show=SHOW)"
   ]
  },
  {
   "cell_type": "markdown",
   "metadata": {},
   "source": [
    "#### 2.3. weight distribution (each layer)\n",
    "visualize_weight_distribution : 모델을 이루는 각각의 레이어의 가중치 분포를 시각화 합니다."
   ]
  },
  {
   "cell_type": "code",
   "execution_count": 24,
   "metadata": {},
   "outputs": [],
   "source": [
    "if not RECURSIVE :\n",
    "    visualize_weight_distribution(MODEL, violin_sample=5000)"
   ]
  },
  {
   "cell_type": "code",
   "execution_count": 25,
   "metadata": {},
   "outputs": [
    {
     "name": "stdout",
     "output_type": "stream",
     "text": [
      "Plot saved to ./results/figure/GBwevaSS\\resnet18\\aircraft\\VisWeightDist\\statistics.png\n",
      "Plot saved to ./results/figure/GBwevaSS\\resnet18\\aircraft\\VisWeightDist\\violinplot.png\n",
      "Plot saved to ./results/figure/GBwevaSSOverfit\\resnet18\\aircraft\\VisWeightDist\\statistics.png\n",
      "Plot saved to ./results/figure/GBwevaSSOverfit\\resnet18\\aircraft\\VisWeightDist\\violinplot.png\n",
      "Plot saved to ./results/figure/standard\\resnet18\\aircraft\\VisWeightDist\\statistics.png\n",
      "Plot saved to ./results/figure/standard\\resnet18\\aircraft\\VisWeightDist\\violinplot.png\n"
     ]
    }
   ],
   "source": [
    "\"\"\" RECURSIVE : Running This!!!\"\"\"\n",
    "if RECURSIVE :\n",
    "    for weight_path in weight_files :\n",
    "        conf = name_parser(weight_path)\n",
    "        conf['model'] = conf['model'].split(\"\\\\\")[-1]\n",
    "        num_class = CLASS_NUM[conf['dataset']]\n",
    "        \n",
    "        MODEL = select_model(conf['model'], num_class)\n",
    "        model_state = torch.load(weight_path)\n",
    "        MODEL.load_state_dict(model_state)\n",
    "        \n",
    "        visualize_weight_distribution(MODEL, conf, save=SAVE, show=SHOW, violin_sample=3000)"
   ]
  },
  {
   "cell_type": "markdown",
   "metadata": {},
   "source": [
    "#### 2.4. Dataset Distribution\n",
    "visualize_feature_distribution: 모델이 판단하는 CLASS와 실제 정답 CLASS의 분포를 비교합니다."
   ]
  },
  {
   "cell_type": "code",
   "execution_count": 26,
   "metadata": {},
   "outputs": [],
   "source": [
    "if not RECURSIVE : \n",
    "    features, labels, preds = get_feature_from_dataset(MODEL, 1000, testloader, layer_name, model_info[layer_name])\n",
    "    # print(features.shape)\n",
    "    # print(labels.shape)\n",
    "    # print(preds.shape)\n",
    "\n",
    "    embedding = get_umap_embedding(features)\n",
    "    #print(embedding.shape)\n",
    "    \n",
    "    visualize_feature_distribution(embedding, labels, preds, conf, layer_name, show=SHOW, save=SAVE)"
   ]
  },
  {
   "cell_type": "code",
   "execution_count": 27,
   "metadata": {},
   "outputs": [
    {
     "name": "stdout",
     "output_type": "stream",
     "text": [
      "Plot saved to ./results/figure/GBwevaSS\\resnet18\\aircraft\\FeatureDist\\#layer_conv1.png\n",
      "Plot saved to ./results/figure/GBwevaSS\\resnet18\\aircraft\\FeatureDist\\#layer_layer1.0.conv2.png\n",
      "Plot saved to ./results/figure/GBwevaSS\\resnet18\\aircraft\\FeatureDist\\#layer_layer1.1.conv2.png\n",
      "Plot saved to ./results/figure/GBwevaSS\\resnet18\\aircraft\\FeatureDist\\#layer_layer2.0.conv2.png\n",
      "Plot saved to ./results/figure/GBwevaSS\\resnet18\\aircraft\\FeatureDist\\#layer_layer2.1.conv2.png\n",
      "Plot saved to ./results/figure/GBwevaSS\\resnet18\\aircraft\\FeatureDist\\#layer_layer3.0.conv2.png\n",
      "Plot saved to ./results/figure/GBwevaSS\\resnet18\\aircraft\\FeatureDist\\#layer_layer3.1.conv2.png\n",
      "Plot saved to ./results/figure/GBwevaSS\\resnet18\\aircraft\\FeatureDist\\#layer_layer4.0.conv2.png\n",
      "Plot saved to ./results/figure/GBwevaSS\\resnet18\\aircraft\\FeatureDist\\#layer_layer4.1.conv2.png\n",
      "Plot saved to ./results/figure/GBwevaSSOverfit\\resnet18\\aircraft\\FeatureDist\\#layer_conv1.png\n",
      "Plot saved to ./results/figure/GBwevaSSOverfit\\resnet18\\aircraft\\FeatureDist\\#layer_layer1.0.conv2.png\n",
      "Plot saved to ./results/figure/GBwevaSSOverfit\\resnet18\\aircraft\\FeatureDist\\#layer_layer1.1.conv2.png\n",
      "Plot saved to ./results/figure/GBwevaSSOverfit\\resnet18\\aircraft\\FeatureDist\\#layer_layer2.0.conv2.png\n",
      "Plot saved to ./results/figure/GBwevaSSOverfit\\resnet18\\aircraft\\FeatureDist\\#layer_layer2.1.conv2.png\n",
      "Plot saved to ./results/figure/GBwevaSSOverfit\\resnet18\\aircraft\\FeatureDist\\#layer_layer3.0.conv2.png\n",
      "Plot saved to ./results/figure/GBwevaSSOverfit\\resnet18\\aircraft\\FeatureDist\\#layer_layer3.1.conv2.png\n",
      "Plot saved to ./results/figure/GBwevaSSOverfit\\resnet18\\aircraft\\FeatureDist\\#layer_layer4.0.conv2.png\n",
      "Plot saved to ./results/figure/GBwevaSSOverfit\\resnet18\\aircraft\\FeatureDist\\#layer_layer4.1.conv2.png\n",
      "Plot saved to ./results/figure/standard\\resnet18\\aircraft\\FeatureDist\\#layer_conv1.png\n",
      "Plot saved to ./results/figure/standard\\resnet18\\aircraft\\FeatureDist\\#layer_layer1.0.conv2.png\n",
      "Plot saved to ./results/figure/standard\\resnet18\\aircraft\\FeatureDist\\#layer_layer1.1.conv2.png\n",
      "Plot saved to ./results/figure/standard\\resnet18\\aircraft\\FeatureDist\\#layer_layer2.0.conv2.png\n",
      "Plot saved to ./results/figure/standard\\resnet18\\aircraft\\FeatureDist\\#layer_layer2.1.conv2.png\n",
      "Plot saved to ./results/figure/standard\\resnet18\\aircraft\\FeatureDist\\#layer_layer3.0.conv2.png\n",
      "Plot saved to ./results/figure/standard\\resnet18\\aircraft\\FeatureDist\\#layer_layer3.1.conv2.png\n",
      "Plot saved to ./results/figure/standard\\resnet18\\aircraft\\FeatureDist\\#layer_layer4.0.conv2.png\n",
      "Plot saved to ./results/figure/standard\\resnet18\\aircraft\\FeatureDist\\#layer_layer4.1.conv2.png\n"
     ]
    }
   ],
   "source": [
    "\"\"\" RECURSIVE : Running This!!! \"\"\" # LAST #TODO\n",
    "if RECURSIVE :\n",
    "    for weight_path in weight_files :\n",
    "        conf = name_parser(weight_path)\n",
    "        conf['model'] = conf['model'].split(\"\\\\\")[-1]\n",
    "        trainloader, validloader, testloader, num_class = datasetload(conf['dataset'], batch_size=64)\n",
    "        MODEL = select_model(conf['model'], num_class)\n",
    "        model_state = torch.load(weight_path)\n",
    "        MODEL.load_state_dict(model_state)\n",
    "        \n",
    "        for layer_name in layer_name_list: \n",
    "            features, labels, preds = get_feature_from_dataset(MODEL, 1000, testloader, layer_name)\n",
    "            embedding = get_umap_embedding(features)\n",
    "            visualize_feature_distribution(embedding, labels, preds, conf, layer_name, num_class=7, show=SHOW, save=SAVE)"
   ]
  },
  {
   "cell_type": "markdown",
   "metadata": {},
   "source": [
    "#### 2.5. Gradient\n",
    "##### 2.5.1 Layer-CAM\n",
    "LayerCAM [16] is a simple modification of Grad-CAM [3], which can generate reliable class activation maps from different layers.\n",
    "visualize_class_activation_images: 모델이 이미지를 분류할 떄, 어떤 부분에 집중하여 판단하는지를 함께 표현하여 시각화합니다."
   ]
  },
  {
   "cell_type": "code",
   "execution_count": 11,
   "metadata": {},
   "outputs": [],
   "source": [
    "if not RECURSIVE:\n",
    "    data =  trainloader.dataset[img_idx]\n",
    "    origin_img, prep_img, target_class = get_info(data)\n",
    "    layer_number = 12  # [0, 12]\n",
    "\n",
    "    layer_cam = LayerCam(MODEL, layer_number)\n",
    "    cam = layer_cam.generate_cam(prep_img, target_class)\n",
    "    visualize_class_activation_images(origin_img, cam, conf, layer_number)\n",
    "\n",
    "    sns.set_style(\"white\")\n",
    "    visualize_tensor(data[0])"
   ]
  },
  {
   "cell_type": "code",
   "execution_count": 12,
   "metadata": {},
   "outputs": [
    {
     "name": "stdout",
     "output_type": "stream",
     "text": [
      "Files already downloaded and verified\n",
      "Files already downloaded and verified\n",
      "40000 10000 10000\n",
      "Files already downloaded and verified\n",
      "Files already downloaded and verified\n",
      "Plot saved to ./results/figure/GBwevaSS\\resnet18\\aircraft\\LayerCAM\\Heatmap_#layer_0.png\n",
      "Plot saved to ./results/figure/GBwevaSS\\resnet18\\aircraft\\LayerCAM\\Grad_On_Image_#layer_0.png\n",
      "Plot saved to ./results/figure/GBwevaSS\\resnet18\\aircraft\\LayerCAM\\Grayscale_#layer_0.png\n",
      "Plot saved to ./results/figure/GBwevaSS\\resnet18\\aircraft\\LayerCAM\\Heatmap_#layer_1.png\n",
      "Plot saved to ./results/figure/GBwevaSS\\resnet18\\aircraft\\LayerCAM\\Grad_On_Image_#layer_1.png\n",
      "Plot saved to ./results/figure/GBwevaSS\\resnet18\\aircraft\\LayerCAM\\Grayscale_#layer_1.png\n",
      "Plot saved to ./results/figure/GBwevaSS\\resnet18\\aircraft\\LayerCAM\\Heatmap_#layer_2.png\n",
      "Plot saved to ./results/figure/GBwevaSS\\resnet18\\aircraft\\LayerCAM\\Grad_On_Image_#layer_2.png\n",
      "Plot saved to ./results/figure/GBwevaSS\\resnet18\\aircraft\\LayerCAM\\Grayscale_#layer_2.png\n",
      "Plot saved to ./results/figure/GBwevaSS\\resnet18\\aircraft\\LayerCAM\\Heatmap_#layer_3.png\n",
      "Plot saved to ./results/figure/GBwevaSS\\resnet18\\aircraft\\LayerCAM\\Grad_On_Image_#layer_3.png\n",
      "Plot saved to ./results/figure/GBwevaSS\\resnet18\\aircraft\\LayerCAM\\Grayscale_#layer_3.png\n",
      "Plot saved to ./results/figure/GBwevaSS\\resnet18\\aircraft\\LayerCAM\\Heatmap_#layer_4.png\n",
      "Plot saved to ./results/figure/GBwevaSS\\resnet18\\aircraft\\LayerCAM\\Grad_On_Image_#layer_4.png\n",
      "Plot saved to ./results/figure/GBwevaSS\\resnet18\\aircraft\\LayerCAM\\Grayscale_#layer_4.png\n",
      "Plot saved to ./results/figure/GBwevaSS\\resnet18\\aircraft\\LayerCAM\\Heatmap_#layer_5.png\n",
      "Plot saved to ./results/figure/GBwevaSS\\resnet18\\aircraft\\LayerCAM\\Grad_On_Image_#layer_5.png\n",
      "Plot saved to ./results/figure/GBwevaSS\\resnet18\\aircraft\\LayerCAM\\Grayscale_#layer_5.png\n",
      "Plot saved to ./results/figure/GBwevaSS\\resnet18\\aircraft\\LayerCAM\\Heatmap_#layer_6.png\n",
      "Plot saved to ./results/figure/GBwevaSS\\resnet18\\aircraft\\LayerCAM\\Grad_On_Image_#layer_6.png\n",
      "Plot saved to ./results/figure/GBwevaSS\\resnet18\\aircraft\\LayerCAM\\Grayscale_#layer_6.png\n",
      "Plot saved to ./results/figure/GBwevaSS\\resnet18\\aircraft\\LayerCAM\\Heatmap_#layer_7.png\n",
      "Plot saved to ./results/figure/GBwevaSS\\resnet18\\aircraft\\LayerCAM\\Grad_On_Image_#layer_7.png\n",
      "Plot saved to ./results/figure/GBwevaSS\\resnet18\\aircraft\\LayerCAM\\Grayscale_#layer_7.png\n",
      "Plot saved to ./results/figure/GBwevaSS\\resnet18\\aircraft\\LayerCAM\\Heatmap_#layer_8.png\n",
      "Plot saved to ./results/figure/GBwevaSS\\resnet18\\aircraft\\LayerCAM\\Grad_On_Image_#layer_8.png\n",
      "Plot saved to ./results/figure/GBwevaSS\\resnet18\\aircraft\\LayerCAM\\Grayscale_#layer_8.png\n",
      "Plot saved to ./results/figure/GBwevaSSOverfit\\resnet18\\aircraft\\LayerCAM\\Heatmap_#layer_0.png\n",
      "Plot saved to ./results/figure/GBwevaSSOverfit\\resnet18\\aircraft\\LayerCAM\\Grad_On_Image_#layer_0.png\n",
      "Plot saved to ./results/figure/GBwevaSSOverfit\\resnet18\\aircraft\\LayerCAM\\Grayscale_#layer_0.png\n",
      "Plot saved to ./results/figure/GBwevaSSOverfit\\resnet18\\aircraft\\LayerCAM\\Heatmap_#layer_1.png\n",
      "Plot saved to ./results/figure/GBwevaSSOverfit\\resnet18\\aircraft\\LayerCAM\\Grad_On_Image_#layer_1.png\n",
      "Plot saved to ./results/figure/GBwevaSSOverfit\\resnet18\\aircraft\\LayerCAM\\Grayscale_#layer_1.png\n",
      "Plot saved to ./results/figure/GBwevaSSOverfit\\resnet18\\aircraft\\LayerCAM\\Heatmap_#layer_2.png\n",
      "Plot saved to ./results/figure/GBwevaSSOverfit\\resnet18\\aircraft\\LayerCAM\\Grad_On_Image_#layer_2.png\n",
      "Plot saved to ./results/figure/GBwevaSSOverfit\\resnet18\\aircraft\\LayerCAM\\Grayscale_#layer_2.png\n",
      "Plot saved to ./results/figure/GBwevaSSOverfit\\resnet18\\aircraft\\LayerCAM\\Heatmap_#layer_3.png\n",
      "Plot saved to ./results/figure/GBwevaSSOverfit\\resnet18\\aircraft\\LayerCAM\\Grad_On_Image_#layer_3.png\n",
      "Plot saved to ./results/figure/GBwevaSSOverfit\\resnet18\\aircraft\\LayerCAM\\Grayscale_#layer_3.png\n",
      "Plot saved to ./results/figure/GBwevaSSOverfit\\resnet18\\aircraft\\LayerCAM\\Heatmap_#layer_4.png\n",
      "Plot saved to ./results/figure/GBwevaSSOverfit\\resnet18\\aircraft\\LayerCAM\\Grad_On_Image_#layer_4.png\n",
      "Plot saved to ./results/figure/GBwevaSSOverfit\\resnet18\\aircraft\\LayerCAM\\Grayscale_#layer_4.png\n",
      "Plot saved to ./results/figure/GBwevaSSOverfit\\resnet18\\aircraft\\LayerCAM\\Heatmap_#layer_5.png\n",
      "Plot saved to ./results/figure/GBwevaSSOverfit\\resnet18\\aircraft\\LayerCAM\\Grad_On_Image_#layer_5.png\n",
      "Plot saved to ./results/figure/GBwevaSSOverfit\\resnet18\\aircraft\\LayerCAM\\Grayscale_#layer_5.png\n",
      "Plot saved to ./results/figure/GBwevaSSOverfit\\resnet18\\aircraft\\LayerCAM\\Heatmap_#layer_6.png\n",
      "Plot saved to ./results/figure/GBwevaSSOverfit\\resnet18\\aircraft\\LayerCAM\\Grad_On_Image_#layer_6.png\n",
      "Plot saved to ./results/figure/GBwevaSSOverfit\\resnet18\\aircraft\\LayerCAM\\Grayscale_#layer_6.png\n",
      "Plot saved to ./results/figure/GBwevaSSOverfit\\resnet18\\aircraft\\LayerCAM\\Heatmap_#layer_7.png\n",
      "Plot saved to ./results/figure/GBwevaSSOverfit\\resnet18\\aircraft\\LayerCAM\\Grad_On_Image_#layer_7.png\n",
      "Plot saved to ./results/figure/GBwevaSSOverfit\\resnet18\\aircraft\\LayerCAM\\Grayscale_#layer_7.png\n",
      "Plot saved to ./results/figure/GBwevaSSOverfit\\resnet18\\aircraft\\LayerCAM\\Heatmap_#layer_8.png\n",
      "Plot saved to ./results/figure/GBwevaSSOverfit\\resnet18\\aircraft\\LayerCAM\\Grad_On_Image_#layer_8.png\n",
      "Plot saved to ./results/figure/GBwevaSSOverfit\\resnet18\\aircraft\\LayerCAM\\Grayscale_#layer_8.png\n",
      "Plot saved to ./results/figure/standard\\resnet18\\aircraft\\LayerCAM\\Heatmap_#layer_0.png\n",
      "Plot saved to ./results/figure/standard\\resnet18\\aircraft\\LayerCAM\\Grad_On_Image_#layer_0.png\n",
      "Plot saved to ./results/figure/standard\\resnet18\\aircraft\\LayerCAM\\Grayscale_#layer_0.png\n",
      "Plot saved to ./results/figure/standard\\resnet18\\aircraft\\LayerCAM\\Heatmap_#layer_1.png\n",
      "Plot saved to ./results/figure/standard\\resnet18\\aircraft\\LayerCAM\\Grad_On_Image_#layer_1.png\n",
      "Plot saved to ./results/figure/standard\\resnet18\\aircraft\\LayerCAM\\Grayscale_#layer_1.png\n",
      "Plot saved to ./results/figure/standard\\resnet18\\aircraft\\LayerCAM\\Heatmap_#layer_2.png\n",
      "Plot saved to ./results/figure/standard\\resnet18\\aircraft\\LayerCAM\\Grad_On_Image_#layer_2.png\n",
      "Plot saved to ./results/figure/standard\\resnet18\\aircraft\\LayerCAM\\Grayscale_#layer_2.png\n",
      "Plot saved to ./results/figure/standard\\resnet18\\aircraft\\LayerCAM\\Heatmap_#layer_3.png\n",
      "Plot saved to ./results/figure/standard\\resnet18\\aircraft\\LayerCAM\\Grad_On_Image_#layer_3.png\n",
      "Plot saved to ./results/figure/standard\\resnet18\\aircraft\\LayerCAM\\Grayscale_#layer_3.png\n",
      "Plot saved to ./results/figure/standard\\resnet18\\aircraft\\LayerCAM\\Heatmap_#layer_4.png\n",
      "Plot saved to ./results/figure/standard\\resnet18\\aircraft\\LayerCAM\\Grad_On_Image_#layer_4.png\n",
      "Plot saved to ./results/figure/standard\\resnet18\\aircraft\\LayerCAM\\Grayscale_#layer_4.png\n",
      "Plot saved to ./results/figure/standard\\resnet18\\aircraft\\LayerCAM\\Heatmap_#layer_5.png\n",
      "Plot saved to ./results/figure/standard\\resnet18\\aircraft\\LayerCAM\\Grad_On_Image_#layer_5.png\n",
      "Plot saved to ./results/figure/standard\\resnet18\\aircraft\\LayerCAM\\Grayscale_#layer_5.png\n",
      "Plot saved to ./results/figure/standard\\resnet18\\aircraft\\LayerCAM\\Heatmap_#layer_6.png\n",
      "Plot saved to ./results/figure/standard\\resnet18\\aircraft\\LayerCAM\\Grad_On_Image_#layer_6.png\n",
      "Plot saved to ./results/figure/standard\\resnet18\\aircraft\\LayerCAM\\Grayscale_#layer_6.png\n",
      "Plot saved to ./results/figure/standard\\resnet18\\aircraft\\LayerCAM\\Heatmap_#layer_7.png\n",
      "Plot saved to ./results/figure/standard\\resnet18\\aircraft\\LayerCAM\\Grad_On_Image_#layer_7.png\n",
      "Plot saved to ./results/figure/standard\\resnet18\\aircraft\\LayerCAM\\Grayscale_#layer_7.png\n",
      "Plot saved to ./results/figure/standard\\resnet18\\aircraft\\LayerCAM\\Heatmap_#layer_8.png\n",
      "Plot saved to ./results/figure/standard\\resnet18\\aircraft\\LayerCAM\\Grad_On_Image_#layer_8.png\n",
      "Plot saved to ./results/figure/standard\\resnet18\\aircraft\\LayerCAM\\Grayscale_#layer_8.png\n"
     ]
    }
   ],
   "source": [
    "\"\"\" RECURSIVE : Running This!!! \"\"\" #TODO\n",
    "if RECURSIVE :\n",
    "    img_idx = 0\n",
    "    img_dict = dict(\n",
    "        cifar100=None,\n",
    "        cub=None,\n",
    "        aircraft=None\n",
    "    )\n",
    "    for dataset in img_dict:\n",
    "        trainloader, validloader, testloader, num_class = datasetload(dataset, batch_size=64)\n",
    "        data = trainloader.dataset[img_idx]\n",
    "        img_dict[dataset] = data\n",
    "    for weight_path in weight_files :\n",
    "        conf = name_parser(weight_path)   \n",
    "        conf['model'] = conf['model'].split(\"\\\\\")[-1]     \n",
    "        data = img_dict[conf['dataset']]\n",
    "        origin_img, prep_img, target_class = get_info(data)\n",
    "        MODEL = select_model(conf['model'], CLASS_NUM[conf['dataset']])\n",
    "        model_state = torch.load(weight_path)\n",
    "        MODEL.load_state_dict(model_state)\n",
    "        MODEL.eval()\n",
    "        for idx, layer in enumerate(layer_name_list):\n",
    "            layer_cam = LayerCam(MODEL, layer)\n",
    "            cam = layer_cam.generate_cam(prep_img, target_class)\n",
    "            visualize_class_activation_images(origin_img, cam, conf, idx, show=SHOW, save=SAVE)"
   ]
  },
  {
   "cell_type": "markdown",
   "metadata": {},
   "source": [
    "##### 2.5.2 Grad Times Image\n",
    "Another technique that is proposed is simply multiplying the gradients with the image itself.\n",
    "visualize_gradXimage: 모델이 주어진 이미지를 볼 때, 계산된 Gradient와 원본이미지의 곱으로 나타낸 그림을 시각화합니다."
   ]
  },
  {
   "cell_type": "code",
   "execution_count": 13,
   "metadata": {},
   "outputs": [],
   "source": [
    "if not RECURSIVE:\n",
    "    data =  trainloader.dataset[img_idx]\n",
    "    origin_img, prep_img, target_class = get_info(data)\n",
    "\n",
    "    visualize_gradXimage(prep_img, target_class, MODEL, conf, show=SHOW, save=SAVE)"
   ]
  },
  {
   "cell_type": "code",
   "execution_count": 15,
   "metadata": {},
   "outputs": [
    {
     "name": "stdout",
     "output_type": "stream",
     "text": [
      "Files already downloaded and verified\n",
      "Files already downloaded and verified\n",
      "40000 10000 10000\n",
      "Files already downloaded and verified\n",
      "Files already downloaded and verified\n",
      "Plot saved to ./results/figure/GBwevaSS\\resnet18\\aircraft\\GradXImage\\vanila_grad.png\n",
      "Plot saved to ./results/figure/GBwevaSSOverfit\\resnet18\\aircraft\\GradXImage\\vanila_grad.png\n",
      "Plot saved to ./results/figure/standard\\resnet18\\aircraft\\GradXImage\\vanila_grad.png\n"
     ]
    }
   ],
   "source": [
    "\"\"\" RECURSIVE : Running This!!! \"\"\" #TODO\n",
    "if RECURSIVE :\n",
    "    img_idx = 0\n",
    "    img_dict = dict(\n",
    "        cifar100=None,\n",
    "        cub=None,\n",
    "        aircraft=None\n",
    "    )\n",
    "    for dataset in img_dict:\n",
    "        trainloader, validloader, testloader, num_class = datasetload(dataset, batch_size=64)\n",
    "        data = trainloader.dataset[img_idx]\n",
    "        img_dict[dataset] = data\n",
    "    for weight_path in weight_files :\n",
    "        conf = name_parser(weight_path)       \n",
    "        conf['model'] = conf['model'].split(\"\\\\\")[-1] \n",
    "        data = img_dict[conf['dataset']]\n",
    "        origin_img, prep_img, target_class = get_info(data)\n",
    "\n",
    "        MODEL = select_model(conf['model'], CLASS_NUM[conf['dataset']])\n",
    "        model_state = torch.load(weight_path)\n",
    "        MODEL.load_state_dict(model_state)\n",
    "        MODEL.eval()\n",
    "\n",
    "        visualize_gradXimage(prep_img, target_class, MODEL, conf, show=SHOW, save=SAVE)"
   ]
  },
  {
   "cell_type": "markdown",
   "metadata": {},
   "source": [
    "### 3. Comparison\n",
    "[!attention] 아래의 그래프를 그리기 전에, 반드시 1.3.을 사용하여 accuracy결과를 저장해야합니다."
   ]
  },
  {
   "cell_type": "code",
   "execution_count": null,
   "metadata": {},
   "outputs": [],
   "source": [
    "# df_dataset, df_freezing = get_performance_df(BEST_VALUES)\n",
    "\n",
    "# for group_key, df in df_dataset.items():\n",
    "#     print(f\"Group: {group_key}\")\n",
    "#     print(df)\n",
    "#     print()\n",
    "# for group_key, df in df_freezing.items():\n",
    "#     print(f\"Group: {group_key}\")\n",
    "#     print(df)\n",
    "#     print()\n",
    "\n",
    "# print(\"01100 freezing 설정을 사용하여 cifar100 데이터셋으로 파인튜닝한 모델의 값에 접근\")\n",
    "# group_df = df_dataset['cifar100']\n",
    "# print(group_df.loc['best_train_acc', '01100'])\n",
    "# group_df = df_freezing['01100']\n",
    "# print(group_df.loc['best_train_acc', 'cifar100'])"
   ]
  },
  {
   "cell_type": "markdown",
   "metadata": {},
   "source": [
    "#### 3.1. Accuracy / Loss (general)\n",
    "plot_comparison_each_dataset: 각 데이터셋 마다 layer-freezing 변화에 따른 accuracy, loss를 비교합니다."
   ]
  },
  {
   "cell_type": "code",
   "execution_count": null,
   "metadata": {},
   "outputs": [],
   "source": [
    "# if not RECURSIVE:\n",
    "#     plot_comparison_each_dataset(df_dataset)"
   ]
  },
  {
   "cell_type": "code",
   "execution_count": null,
   "metadata": {},
   "outputs": [],
   "source": [
    "# \"\"\" RECURSIVE SAVE : Running This!!! \"\"\"\n",
    "# if RECURSIVE:\n",
    "#     plot_comparison_each_dataset(df_dataset, show=SHOW, save=SAVE)"
   ]
  },
  {
   "cell_type": "markdown",
   "metadata": {},
   "source": [
    "#### 3.2. Accuracy / Loss (one-layer)\n",
    "plot_comparison_each_dataset_only_one: 각 데이터셋 마다 단 하나의 layer만을 선택하여 학습한 경우 acc / loss를 그립니다."
   ]
  },
  {
   "cell_type": "code",
   "execution_count": null,
   "metadata": {},
   "outputs": [],
   "source": [
    "# if not RECURSIVE:\n",
    "#     plot_comparison_each_dataset_only_one(df_dataset)"
   ]
  },
  {
   "cell_type": "code",
   "execution_count": null,
   "metadata": {},
   "outputs": [],
   "source": [
    "# \"\"\" RECURSIVE SAVE : Running This!!! \"\"\"\n",
    "# if RECURSIVE:\n",
    "#     plot_comparison_each_dataset_only_one(df_dataset, show=SHOW, save=SAVE)"
   ]
  },
  {
   "cell_type": "markdown",
   "metadata": {},
   "source": [
    "#### 3.3. Accuracy / Loss (two-layer)\n",
    "plot_comparison_each_dataset_only_two: 각 데이터셋 마다 2개의 layer만을 선택하여 학습한 경우 acc / loss를 그립니다."
   ]
  },
  {
   "cell_type": "code",
   "execution_count": null,
   "metadata": {},
   "outputs": [],
   "source": [
    "# if not RECURSIVE:\n",
    "#     plot_comparison_each_dataset_only_two(df_dataset)"
   ]
  },
  {
   "cell_type": "code",
   "execution_count": null,
   "metadata": {},
   "outputs": [],
   "source": [
    "# \"\"\" RECURSIVE SAVE : Running This!!! \"\"\"\n",
    "# if RECURSIVE:\n",
    "#     plot_comparison_each_dataset_only_two(df_dataset, show=SHOW, save=SAVE)"
   ]
  },
  {
   "cell_type": "code",
   "execution_count": null,
   "metadata": {},
   "outputs": [],
   "source": []
  }
 ],
 "metadata": {
  "kernelspec": {
   "display_name": "ALIVE",
   "language": "python",
   "name": "python3"
  },
  "language_info": {
   "codemirror_mode": {
    "name": "ipython",
    "version": 3
   },
   "file_extension": ".py",
   "mimetype": "text/x-python",
   "name": "python",
   "nbconvert_exporter": "python",
   "pygments_lexer": "ipython3",
   "version": "3.10.11"
  }
 },
 "nbformat": 4,
 "nbformat_minor": 2
}
